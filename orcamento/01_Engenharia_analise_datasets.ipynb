{
  "nbformat": 4,
  "nbformat_minor": 0,
  "metadata": {
    "colab": {
      "provenance": [],
      "include_colab_link": true
    },
    "kernelspec": {
      "name": "python3",
      "display_name": "Python 3"
    },
    "language_info": {
      "name": "python"
    }
  },
  "cells": [
    {
      "cell_type": "markdown",
      "metadata": {
        "id": "view-in-github",
        "colab_type": "text"
      },
      "source": [
        "<a href=\"https://colab.research.google.com/github/eduard0buarque/datascience/blob/main/orcamento/01_Engenharia_analise_datasets.ipynb\" target=\"_parent\"><img src=\"https://colab.research.google.com/assets/colab-badge.svg\" alt=\"Open In Colab\"/></a>"
      ]
    },
    {
      "cell_type": "code",
      "execution_count": 1,
      "metadata": {
        "id": "G-G42M4x4Rnq",
        "colab": {
          "base_uri": "https://localhost:8080/",
          "height": 381
        },
        "outputId": "94d11633-1bca-4fb5-c5a8-e80b69b57f0c"
      },
      "outputs": [
        {
          "output_type": "error",
          "ename": "MessageError",
          "evalue": "ignored",
          "traceback": [
            "\u001b[0;31m---------------------------------------------------------------------------\u001b[0m",
            "\u001b[0;31mMessageError\u001b[0m                              Traceback (most recent call last)",
            "\u001b[0;32m<ipython-input-1-0bd41c34d2e7>\u001b[0m in \u001b[0;36m<module>\u001b[0;34m\u001b[0m\n\u001b[1;32m      8\u001b[0m \u001b[0mget_ipython\u001b[0m\u001b[0;34m(\u001b[0m\u001b[0;34m)\u001b[0m\u001b[0;34m.\u001b[0m\u001b[0mrun_line_magic\u001b[0m\u001b[0;34m(\u001b[0m\u001b[0;34m'matplotlib'\u001b[0m\u001b[0;34m,\u001b[0m \u001b[0;34m'inline'\u001b[0m\u001b[0;34m)\u001b[0m\u001b[0;34m\u001b[0m\u001b[0;34m\u001b[0m\u001b[0m\n\u001b[1;32m      9\u001b[0m \u001b[0;34m\u001b[0m\u001b[0m\n\u001b[0;32m---> 10\u001b[0;31m \u001b[0mdrive\u001b[0m\u001b[0;34m.\u001b[0m\u001b[0mmount\u001b[0m\u001b[0;34m(\u001b[0m\u001b[0;34m'/content/drive'\u001b[0m\u001b[0;34m)\u001b[0m\u001b[0;34m\u001b[0m\u001b[0;34m\u001b[0m\u001b[0m\n\u001b[0m\u001b[1;32m     11\u001b[0m \u001b[0mcaminho\u001b[0m \u001b[0;34m=\u001b[0m \u001b[0;34m'/content/drive/My Drive/Datascience/orcamento/dataset/'\u001b[0m\u001b[0;34m\u001b[0m\u001b[0;34m\u001b[0m\u001b[0m\n\u001b[1;32m     12\u001b[0m \u001b[0mdataset_final\u001b[0m \u001b[0;34m=\u001b[0m \u001b[0mcaminho\u001b[0m \u001b[0;34m+\u001b[0m \u001b[0;34m'tratado/'\u001b[0m\u001b[0;34m\u001b[0m\u001b[0;34m\u001b[0m\u001b[0m\n",
            "\u001b[0;32m/usr/local/lib/python3.8/dist-packages/google/colab/drive.py\u001b[0m in \u001b[0;36mmount\u001b[0;34m(mountpoint, force_remount, timeout_ms, readonly)\u001b[0m\n\u001b[1;32m     99\u001b[0m \u001b[0;32mdef\u001b[0m \u001b[0mmount\u001b[0m\u001b[0;34m(\u001b[0m\u001b[0mmountpoint\u001b[0m\u001b[0;34m,\u001b[0m \u001b[0mforce_remount\u001b[0m\u001b[0;34m=\u001b[0m\u001b[0;32mFalse\u001b[0m\u001b[0;34m,\u001b[0m \u001b[0mtimeout_ms\u001b[0m\u001b[0;34m=\u001b[0m\u001b[0;36m120000\u001b[0m\u001b[0;34m,\u001b[0m \u001b[0mreadonly\u001b[0m\u001b[0;34m=\u001b[0m\u001b[0;32mFalse\u001b[0m\u001b[0;34m)\u001b[0m\u001b[0;34m:\u001b[0m\u001b[0;34m\u001b[0m\u001b[0;34m\u001b[0m\u001b[0m\n\u001b[1;32m    100\u001b[0m   \u001b[0;34m\"\"\"Mount your Google Drive at the specified mountpoint path.\"\"\"\u001b[0m\u001b[0;34m\u001b[0m\u001b[0;34m\u001b[0m\u001b[0m\n\u001b[0;32m--> 101\u001b[0;31m   return _mount(\n\u001b[0m\u001b[1;32m    102\u001b[0m       \u001b[0mmountpoint\u001b[0m\u001b[0;34m,\u001b[0m\u001b[0;34m\u001b[0m\u001b[0;34m\u001b[0m\u001b[0m\n\u001b[1;32m    103\u001b[0m       \u001b[0mforce_remount\u001b[0m\u001b[0;34m=\u001b[0m\u001b[0mforce_remount\u001b[0m\u001b[0;34m,\u001b[0m\u001b[0;34m\u001b[0m\u001b[0;34m\u001b[0m\u001b[0m\n",
            "\u001b[0;32m/usr/local/lib/python3.8/dist-packages/google/colab/drive.py\u001b[0m in \u001b[0;36m_mount\u001b[0;34m(mountpoint, force_remount, timeout_ms, ephemeral, readonly)\u001b[0m\n\u001b[1;32m    122\u001b[0m       'TBE_EPHEM_CREDS_ADDR'] if ephemeral else _os.environ['TBE_CREDS_ADDR']\n\u001b[1;32m    123\u001b[0m   \u001b[0;32mif\u001b[0m \u001b[0mephemeral\u001b[0m\u001b[0;34m:\u001b[0m\u001b[0;34m\u001b[0m\u001b[0;34m\u001b[0m\u001b[0m\n\u001b[0;32m--> 124\u001b[0;31m     _message.blocking_request(\n\u001b[0m\u001b[1;32m    125\u001b[0m         'request_auth', request={'authType': 'dfs_ephemeral'}, timeout_sec=None)\n\u001b[1;32m    126\u001b[0m \u001b[0;34m\u001b[0m\u001b[0m\n",
            "\u001b[0;32m/usr/local/lib/python3.8/dist-packages/google/colab/_message.py\u001b[0m in \u001b[0;36mblocking_request\u001b[0;34m(request_type, request, timeout_sec, parent)\u001b[0m\n\u001b[1;32m    169\u001b[0m   request_id = send_request(\n\u001b[1;32m    170\u001b[0m       request_type, request, parent=parent, expect_reply=True)\n\u001b[0;32m--> 171\u001b[0;31m   \u001b[0;32mreturn\u001b[0m \u001b[0mread_reply_from_input\u001b[0m\u001b[0;34m(\u001b[0m\u001b[0mrequest_id\u001b[0m\u001b[0;34m,\u001b[0m \u001b[0mtimeout_sec\u001b[0m\u001b[0;34m)\u001b[0m\u001b[0;34m\u001b[0m\u001b[0;34m\u001b[0m\u001b[0m\n\u001b[0m",
            "\u001b[0;32m/usr/local/lib/python3.8/dist-packages/google/colab/_message.py\u001b[0m in \u001b[0;36mread_reply_from_input\u001b[0;34m(message_id, timeout_sec)\u001b[0m\n\u001b[1;32m    100\u001b[0m         reply.get('colab_msg_id') == message_id):\n\u001b[1;32m    101\u001b[0m       \u001b[0;32mif\u001b[0m \u001b[0;34m'error'\u001b[0m \u001b[0;32min\u001b[0m \u001b[0mreply\u001b[0m\u001b[0;34m:\u001b[0m\u001b[0;34m\u001b[0m\u001b[0;34m\u001b[0m\u001b[0m\n\u001b[0;32m--> 102\u001b[0;31m         \u001b[0;32mraise\u001b[0m \u001b[0mMessageError\u001b[0m\u001b[0;34m(\u001b[0m\u001b[0mreply\u001b[0m\u001b[0;34m[\u001b[0m\u001b[0;34m'error'\u001b[0m\u001b[0;34m]\u001b[0m\u001b[0;34m)\u001b[0m\u001b[0;34m\u001b[0m\u001b[0;34m\u001b[0m\u001b[0m\n\u001b[0m\u001b[1;32m    103\u001b[0m       \u001b[0;32mreturn\u001b[0m \u001b[0mreply\u001b[0m\u001b[0;34m.\u001b[0m\u001b[0mget\u001b[0m\u001b[0;34m(\u001b[0m\u001b[0;34m'data'\u001b[0m\u001b[0;34m,\u001b[0m \u001b[0;32mNone\u001b[0m\u001b[0;34m)\u001b[0m\u001b[0;34m\u001b[0m\u001b[0;34m\u001b[0m\u001b[0m\n\u001b[1;32m    104\u001b[0m \u001b[0;34m\u001b[0m\u001b[0m\n",
            "\u001b[0;31mMessageError\u001b[0m: Error: credential propagation was unsuccessful"
          ]
        }
      ],
      "source": [
        "import pandas as pd\n",
        "import numpy as np\n",
        "import matplotlib.pyplot as plt\n",
        "import seaborn as sns\n",
        "from google.colab import drive\n",
        "from datetime import date\n",
        "\n",
        "%matplotlib inline\n",
        "\n",
        "drive.mount('/content/drive')\n",
        "caminho = '/content/drive/My Drive/Datascience/orcamento/dataset/'\n",
        "dataset_final = caminho + 'tratado/'"
      ]
    },
    {
      "cell_type": "code",
      "source": [
        "def le_planilha(planilha_dados, separador = \",\", decimais = \",\", encode='utf-8'):\n",
        "  df_dados = pd.read_csv(caminho + planilha_dados, decimal=decimais, sep=separador, encoding=encode)\n",
        "  return df_dados"
      ],
      "metadata": {
        "id": "KOa1bJO04qf7"
      },
      "execution_count": null,
      "outputs": []
    },
    {
      "cell_type": "code",
      "source": [
        "def cria_planilha(dataframe, nome, caminho):\n",
        "  dataframe.to_csv(caminho + nome)"
      ],
      "metadata": {
        "id": "PI4-HfKdI9iY"
      },
      "execution_count": null,
      "outputs": []
    },
    {
      "cell_type": "code",
      "source": [
        "def calculaIdade(birthDate): \n",
        "    hoje = date.today() \n",
        "    idade = hoje.year - birthDate.year - ((hoje.month, hoje.day) < (birthDate.month, birthDate.day)) \n",
        "  \n",
        "    return idade "
      ],
      "metadata": {
        "id": "7FAucQOe6IXj"
      },
      "execution_count": null,
      "outputs": []
    },
    {
      "cell_type": "markdown",
      "source": [
        "##Atendimentos - Urgencia e Internacao"
      ],
      "metadata": {
        "id": "sUYV2R2DSSPL"
      }
    },
    {
      "cell_type": "code",
      "source": [
        "df_atendimentos = le_planilha('atendimentos.csv', separador=\";\")\n",
        "df_atendimentos.head()"
      ],
      "metadata": {
        "colab": {
          "base_uri": "https://localhost:8080/",
          "height": 357
        },
        "id": "_hOJX5vv41AM",
        "outputId": "d942d49d-499d-4ba8-ee84-ae75356e3098"
      },
      "execution_count": null,
      "outputs": [
        {
          "output_type": "execute_result",
          "data": {
            "text/plain": [
              "   CD_PACIENTE  CD_MULTI_EMPRESA  CD_ATENDIMENTO_INT   DH_ATENDIMENTO_INT  \\\n",
              "0            3                 7             3912301  08/06/2022 17:53:30   \n",
              "1         1071                 7             3462858  09/01/2022 22:58:17   \n",
              "2         1520                 7             4401673  14/11/2022 15:09:00   \n",
              "3         3067                 7             3523351  27/01/2022 21:34:00   \n",
              "4         3935                 7             4071446  29/07/2022 20:50:51   \n",
              "\n",
              "   CD_CONVENIO_INT          DH_ALTA_INT  CD_ATENDIMENTO_URG  \\\n",
              "0               53  09/06/2022 15:00:00             3910658   \n",
              "1                5  15/01/2022 20:50:45             3462758   \n",
              "2                5  16/11/2022 17:07:54             4399386   \n",
              "3               48  30/01/2022 16:26:05             3522814   \n",
              "4                6  04/08/2022 14:20:00             4071254   \n",
              "\n",
              "    DH_ATENDIMENTO_URG  CD_CONVENIO_URG          DH_ALTA_URG TP_ATENDIMENTO  \n",
              "0  08/06/2022 12:18:17               53  08/06/2022 17:50:49              I  \n",
              "1  09/01/2022 20:47:51                5  09/01/2022 22:57:08              I  \n",
              "2  14/11/2022 08:07:40                5  14/11/2022 14:59:00              I  \n",
              "3  27/01/2022 16:32:54               48  27/01/2022 21:32:37              I  \n",
              "4  29/07/2022 17:56:39                6  29/07/2022 20:46:45              I  "
            ],
            "text/html": [
              "\n",
              "  <div id=\"df-1c97a7ec-b19d-4bdc-89db-da1f51a35264\">\n",
              "    <div class=\"colab-df-container\">\n",
              "      <div>\n",
              "<style scoped>\n",
              "    .dataframe tbody tr th:only-of-type {\n",
              "        vertical-align: middle;\n",
              "    }\n",
              "\n",
              "    .dataframe tbody tr th {\n",
              "        vertical-align: top;\n",
              "    }\n",
              "\n",
              "    .dataframe thead th {\n",
              "        text-align: right;\n",
              "    }\n",
              "</style>\n",
              "<table border=\"1\" class=\"dataframe\">\n",
              "  <thead>\n",
              "    <tr style=\"text-align: right;\">\n",
              "      <th></th>\n",
              "      <th>CD_PACIENTE</th>\n",
              "      <th>CD_MULTI_EMPRESA</th>\n",
              "      <th>CD_ATENDIMENTO_INT</th>\n",
              "      <th>DH_ATENDIMENTO_INT</th>\n",
              "      <th>CD_CONVENIO_INT</th>\n",
              "      <th>DH_ALTA_INT</th>\n",
              "      <th>CD_ATENDIMENTO_URG</th>\n",
              "      <th>DH_ATENDIMENTO_URG</th>\n",
              "      <th>CD_CONVENIO_URG</th>\n",
              "      <th>DH_ALTA_URG</th>\n",
              "      <th>TP_ATENDIMENTO</th>\n",
              "    </tr>\n",
              "  </thead>\n",
              "  <tbody>\n",
              "    <tr>\n",
              "      <th>0</th>\n",
              "      <td>3</td>\n",
              "      <td>7</td>\n",
              "      <td>3912301</td>\n",
              "      <td>08/06/2022 17:53:30</td>\n",
              "      <td>53</td>\n",
              "      <td>09/06/2022 15:00:00</td>\n",
              "      <td>3910658</td>\n",
              "      <td>08/06/2022 12:18:17</td>\n",
              "      <td>53</td>\n",
              "      <td>08/06/2022 17:50:49</td>\n",
              "      <td>I</td>\n",
              "    </tr>\n",
              "    <tr>\n",
              "      <th>1</th>\n",
              "      <td>1071</td>\n",
              "      <td>7</td>\n",
              "      <td>3462858</td>\n",
              "      <td>09/01/2022 22:58:17</td>\n",
              "      <td>5</td>\n",
              "      <td>15/01/2022 20:50:45</td>\n",
              "      <td>3462758</td>\n",
              "      <td>09/01/2022 20:47:51</td>\n",
              "      <td>5</td>\n",
              "      <td>09/01/2022 22:57:08</td>\n",
              "      <td>I</td>\n",
              "    </tr>\n",
              "    <tr>\n",
              "      <th>2</th>\n",
              "      <td>1520</td>\n",
              "      <td>7</td>\n",
              "      <td>4401673</td>\n",
              "      <td>14/11/2022 15:09:00</td>\n",
              "      <td>5</td>\n",
              "      <td>16/11/2022 17:07:54</td>\n",
              "      <td>4399386</td>\n",
              "      <td>14/11/2022 08:07:40</td>\n",
              "      <td>5</td>\n",
              "      <td>14/11/2022 14:59:00</td>\n",
              "      <td>I</td>\n",
              "    </tr>\n",
              "    <tr>\n",
              "      <th>3</th>\n",
              "      <td>3067</td>\n",
              "      <td>7</td>\n",
              "      <td>3523351</td>\n",
              "      <td>27/01/2022 21:34:00</td>\n",
              "      <td>48</td>\n",
              "      <td>30/01/2022 16:26:05</td>\n",
              "      <td>3522814</td>\n",
              "      <td>27/01/2022 16:32:54</td>\n",
              "      <td>48</td>\n",
              "      <td>27/01/2022 21:32:37</td>\n",
              "      <td>I</td>\n",
              "    </tr>\n",
              "    <tr>\n",
              "      <th>4</th>\n",
              "      <td>3935</td>\n",
              "      <td>7</td>\n",
              "      <td>4071446</td>\n",
              "      <td>29/07/2022 20:50:51</td>\n",
              "      <td>6</td>\n",
              "      <td>04/08/2022 14:20:00</td>\n",
              "      <td>4071254</td>\n",
              "      <td>29/07/2022 17:56:39</td>\n",
              "      <td>6</td>\n",
              "      <td>29/07/2022 20:46:45</td>\n",
              "      <td>I</td>\n",
              "    </tr>\n",
              "  </tbody>\n",
              "</table>\n",
              "</div>\n",
              "      <button class=\"colab-df-convert\" onclick=\"convertToInteractive('df-1c97a7ec-b19d-4bdc-89db-da1f51a35264')\"\n",
              "              title=\"Convert this dataframe to an interactive table.\"\n",
              "              style=\"display:none;\">\n",
              "        \n",
              "  <svg xmlns=\"http://www.w3.org/2000/svg\" height=\"24px\"viewBox=\"0 0 24 24\"\n",
              "       width=\"24px\">\n",
              "    <path d=\"M0 0h24v24H0V0z\" fill=\"none\"/>\n",
              "    <path d=\"M18.56 5.44l.94 2.06.94-2.06 2.06-.94-2.06-.94-.94-2.06-.94 2.06-2.06.94zm-11 1L8.5 8.5l.94-2.06 2.06-.94-2.06-.94L8.5 2.5l-.94 2.06-2.06.94zm10 10l.94 2.06.94-2.06 2.06-.94-2.06-.94-.94-2.06-.94 2.06-2.06.94z\"/><path d=\"M17.41 7.96l-1.37-1.37c-.4-.4-.92-.59-1.43-.59-.52 0-1.04.2-1.43.59L10.3 9.45l-7.72 7.72c-.78.78-.78 2.05 0 2.83L4 21.41c.39.39.9.59 1.41.59.51 0 1.02-.2 1.41-.59l7.78-7.78 2.81-2.81c.8-.78.8-2.07 0-2.86zM5.41 20L4 18.59l7.72-7.72 1.47 1.35L5.41 20z\"/>\n",
              "  </svg>\n",
              "      </button>\n",
              "      \n",
              "  <style>\n",
              "    .colab-df-container {\n",
              "      display:flex;\n",
              "      flex-wrap:wrap;\n",
              "      gap: 12px;\n",
              "    }\n",
              "\n",
              "    .colab-df-convert {\n",
              "      background-color: #E8F0FE;\n",
              "      border: none;\n",
              "      border-radius: 50%;\n",
              "      cursor: pointer;\n",
              "      display: none;\n",
              "      fill: #1967D2;\n",
              "      height: 32px;\n",
              "      padding: 0 0 0 0;\n",
              "      width: 32px;\n",
              "    }\n",
              "\n",
              "    .colab-df-convert:hover {\n",
              "      background-color: #E2EBFA;\n",
              "      box-shadow: 0px 1px 2px rgba(60, 64, 67, 0.3), 0px 1px 3px 1px rgba(60, 64, 67, 0.15);\n",
              "      fill: #174EA6;\n",
              "    }\n",
              "\n",
              "    [theme=dark] .colab-df-convert {\n",
              "      background-color: #3B4455;\n",
              "      fill: #D2E3FC;\n",
              "    }\n",
              "\n",
              "    [theme=dark] .colab-df-convert:hover {\n",
              "      background-color: #434B5C;\n",
              "      box-shadow: 0px 1px 3px 1px rgba(0, 0, 0, 0.15);\n",
              "      filter: drop-shadow(0px 1px 2px rgba(0, 0, 0, 0.3));\n",
              "      fill: #FFFFFF;\n",
              "    }\n",
              "  </style>\n",
              "\n",
              "      <script>\n",
              "        const buttonEl =\n",
              "          document.querySelector('#df-1c97a7ec-b19d-4bdc-89db-da1f51a35264 button.colab-df-convert');\n",
              "        buttonEl.style.display =\n",
              "          google.colab.kernel.accessAllowed ? 'block' : 'none';\n",
              "\n",
              "        async function convertToInteractive(key) {\n",
              "          const element = document.querySelector('#df-1c97a7ec-b19d-4bdc-89db-da1f51a35264');\n",
              "          const dataTable =\n",
              "            await google.colab.kernel.invokeFunction('convertToInteractive',\n",
              "                                                     [key], {});\n",
              "          if (!dataTable) return;\n",
              "\n",
              "          const docLinkHtml = 'Like what you see? Visit the ' +\n",
              "            '<a target=\"_blank\" href=https://colab.research.google.com/notebooks/data_table.ipynb>data table notebook</a>'\n",
              "            + ' to learn more about interactive tables.';\n",
              "          element.innerHTML = '';\n",
              "          dataTable['output_type'] = 'display_data';\n",
              "          await google.colab.output.renderOutput(dataTable, element);\n",
              "          const docLink = document.createElement('div');\n",
              "          docLink.innerHTML = docLinkHtml;\n",
              "          element.appendChild(docLink);\n",
              "        }\n",
              "      </script>\n",
              "    </div>\n",
              "  </div>\n",
              "  "
            ]
          },
          "metadata": {},
          "execution_count": 5
        }
      ]
    },
    {
      "cell_type": "markdown",
      "source": [
        "Avaliando Tipos de Dados e Valores Nulos:"
      ],
      "metadata": {
        "id": "M8sd_Thl5ib9"
      }
    },
    {
      "cell_type": "code",
      "source": [
        "df_atendimentos.info()"
      ],
      "metadata": {
        "colab": {
          "base_uri": "https://localhost:8080/"
        },
        "id": "gq8X0ic243eY",
        "outputId": "659a18e9-6aa4-4d59-9b50-81483c761f0a"
      },
      "execution_count": null,
      "outputs": [
        {
          "output_type": "stream",
          "name": "stdout",
          "text": [
            "<class 'pandas.core.frame.DataFrame'>\n",
            "RangeIndex: 12124 entries, 0 to 12123\n",
            "Data columns (total 11 columns):\n",
            " #   Column              Non-Null Count  Dtype \n",
            "---  ------              --------------  ----- \n",
            " 0   CD_PACIENTE         12124 non-null  int64 \n",
            " 1   CD_MULTI_EMPRESA    12124 non-null  int64 \n",
            " 2   CD_ATENDIMENTO_INT  12124 non-null  int64 \n",
            " 3   DH_ATENDIMENTO_INT  12124 non-null  object\n",
            " 4   CD_CONVENIO_INT     12124 non-null  int64 \n",
            " 5   DH_ALTA_INT         12124 non-null  object\n",
            " 6   CD_ATENDIMENTO_URG  12124 non-null  int64 \n",
            " 7   DH_ATENDIMENTO_URG  12124 non-null  object\n",
            " 8   CD_CONVENIO_URG     12124 non-null  int64 \n",
            " 9   DH_ALTA_URG         12124 non-null  object\n",
            " 10  TP_ATENDIMENTO      12124 non-null  object\n",
            "dtypes: int64(6), object(5)\n",
            "memory usage: 1.0+ MB\n"
          ]
        }
      ]
    },
    {
      "cell_type": "code",
      "source": [
        "df_atendimentos.isnull().sum()"
      ],
      "metadata": {
        "colab": {
          "base_uri": "https://localhost:8080/"
        },
        "id": "YSEkesdl5o5n",
        "outputId": "383ea930-be99-48a3-ce9d-6b42c73967b9"
      },
      "execution_count": null,
      "outputs": [
        {
          "output_type": "execute_result",
          "data": {
            "text/plain": [
              "CD_PACIENTE           0\n",
              "CD_MULTI_EMPRESA      0\n",
              "CD_ATENDIMENTO_INT    0\n",
              "DH_ATENDIMENTO_INT    0\n",
              "CD_CONVENIO_INT       0\n",
              "DH_ALTA_INT           0\n",
              "CD_ATENDIMENTO_URG    0\n",
              "DH_ATENDIMENTO_URG    0\n",
              "CD_CONVENIO_URG       0\n",
              "DH_ALTA_URG           0\n",
              "TP_ATENDIMENTO        0\n",
              "dtype: int64"
            ]
          },
          "metadata": {},
          "execution_count": 8
        }
      ]
    },
    {
      "cell_type": "markdown",
      "source": [
        "Convertendo campos Data/Hora de Object para DateTime e revendo a estrutura"
      ],
      "metadata": {
        "id": "3IIUTpEt646Z"
      }
    },
    {
      "cell_type": "code",
      "source": [
        "df_atendimentos['DH_ATENDIMENTO_INT'] = pd.to_datetime(df_atendimentos['DH_ATENDIMENTO_INT'], dayfirst=True)\n",
        "df_atendimentos['DH_ALTA_INT'] = pd.to_datetime(df_atendimentos['DH_ALTA_INT'], dayfirst=True)\n",
        "df_atendimentos['DH_ATENDIMENTO_URG'] = pd.to_datetime(df_atendimentos['DH_ATENDIMENTO_URG'], dayfirst=True)\n",
        "df_atendimentos['DH_ALTA_URG'] = pd.to_datetime(df_atendimentos['DH_ALTA_URG'], dayfirst=True)"
      ],
      "metadata": {
        "id": "xo7z-sYt5yDP"
      },
      "execution_count": null,
      "outputs": []
    },
    {
      "cell_type": "code",
      "source": [
        "df_atendimentos['DH_ATENDIMENTO_URG'].min()"
      ],
      "metadata": {
        "colab": {
          "base_uri": "https://localhost:8080/"
        },
        "id": "h9TK8tSkwV8E",
        "outputId": "fd2a8058-8f34-46bd-fe1d-6db22aebf467"
      },
      "execution_count": null,
      "outputs": [
        {
          "output_type": "execute_result",
          "data": {
            "text/plain": [
              "Timestamp('2022-01-02 00:55:23')"
            ]
          },
          "metadata": {},
          "execution_count": 10
        }
      ]
    },
    {
      "cell_type": "code",
      "source": [
        "df_atendimentos.drop('TP_ATENDIMENTO', inplace=True, axis=1)\n",
        "df_atendimentos.drop('CD_MULTI_EMPRESA', inplace=True, axis=1)"
      ],
      "metadata": {
        "id": "iqaQZ-Kq8NVX"
      },
      "execution_count": null,
      "outputs": []
    },
    {
      "cell_type": "code",
      "source": [
        "cria_planilha(df_atendimentos, 'atendimento.csv', dataset_final)"
      ],
      "metadata": {
        "id": "YPDZP24WPSP8"
      },
      "execution_count": null,
      "outputs": []
    },
    {
      "cell_type": "markdown",
      "source": [
        "##Contas de Internacao (alvo da predicao)"
      ],
      "metadata": {
        "id": "Wi30_dINSew_"
      }
    },
    {
      "cell_type": "code",
      "source": [
        "df_conta_int = le_planilha('faturamento.csv', separador=\";\")"
      ],
      "metadata": {
        "id": "f1NE36odufp-"
      },
      "execution_count": null,
      "outputs": []
    },
    {
      "cell_type": "code",
      "source": [
        "df_conta_int.TP_CONTA.unique()"
      ],
      "metadata": {
        "colab": {
          "base_uri": "https://localhost:8080/"
        },
        "id": "OWCyrdggvimU",
        "outputId": "5cbe2aee-60e5-4882-8fc2-9a263df4d144"
      },
      "execution_count": null,
      "outputs": [
        {
          "output_type": "execute_result",
          "data": {
            "text/plain": [
              "array(['Hospitalar'], dtype=object)"
            ]
          },
          "metadata": {},
          "execution_count": 9
        }
      ]
    },
    {
      "cell_type": "code",
      "source": [
        "colunas_conta = ['CD_ATENDIMENTO',\t'CD_PRESTADOR', 'CD_CONVENIO',\t'CD_PRO_INT_PROCEDIMENTO_ENTRAD', 'VL_TOTAL_CONTA']"
      ],
      "metadata": {
        "id": "P8NUfXrCvk7K"
      },
      "execution_count": null,
      "outputs": []
    },
    {
      "cell_type": "code",
      "source": [
        "df_contas_temp = df_conta_int[colunas_conta]"
      ],
      "metadata": {
        "id": "arXuHgWjS_nM"
      },
      "execution_count": null,
      "outputs": []
    },
    {
      "cell_type": "code",
      "source": [
        "df_contas_temp.info()"
      ],
      "metadata": {
        "colab": {
          "base_uri": "https://localhost:8080/"
        },
        "id": "uot8h5liTGhU",
        "outputId": "0d27ee05-16af-443e-f0af-76f3c3e19d2f"
      },
      "execution_count": null,
      "outputs": [
        {
          "output_type": "stream",
          "name": "stdout",
          "text": [
            "<class 'pandas.core.frame.DataFrame'>\n",
            "RangeIndex: 23178 entries, 0 to 23177\n",
            "Data columns (total 5 columns):\n",
            " #   Column                          Non-Null Count  Dtype  \n",
            "---  ------                          --------------  -----  \n",
            " 0   CD_ATENDIMENTO                  23178 non-null  int64  \n",
            " 1   CD_PRESTADOR                    23178 non-null  int64  \n",
            " 2   CD_CONVENIO                     23178 non-null  int64  \n",
            " 3   CD_PRO_INT_PROCEDIMENTO_ENTRAD  23178 non-null  int64  \n",
            " 4   VL_TOTAL_CONTA                  23178 non-null  float64\n",
            "dtypes: float64(1), int64(4)\n",
            "memory usage: 905.5 KB\n"
          ]
        }
      ]
    },
    {
      "cell_type": "code",
      "source": [
        "cria_planilha(df_contas_temp, 'contas_internacao.csv', dataset_final)"
      ],
      "metadata": {
        "id": "r1lg5Lj2Tb0s"
      },
      "execution_count": null,
      "outputs": []
    },
    {
      "cell_type": "markdown",
      "source": [
        "##Conta Urgência"
      ],
      "metadata": {
        "id": "XOD54iSfApL9"
      }
    },
    {
      "cell_type": "code",
      "source": [
        "df_conta_urg = le_planilha('faturamento_urg.csv', separador=\";\")  \n",
        "df_conta_urg.head()"
      ],
      "metadata": {
        "id": "rKLUSoizAobZ",
        "colab": {
          "base_uri": "https://localhost:8080/",
          "height": 337
        },
        "outputId": "104aaf1a-ef5a-42e1-82d7-7bd846cb552f"
      },
      "execution_count": null,
      "outputs": [
        {
          "output_type": "execute_result",
          "data": {
            "text/plain": [
              "   CD_ATENDIMENTO       DT_ATENDIMENTO              DT_ALTA  CD_PRESTADOR  \\\n",
              "0         3492787  18/01/2022 00:00:00  18/01/2022 16:10:44         31026   \n",
              "1         3474848  12/01/2022 00:00:00  12/01/2022 23:38:17          7010   \n",
              "2         3507533  22/01/2022 00:00:00  23/01/2022 02:37:25         35430   \n",
              "3         3484247  15/01/2022 00:00:00  15/01/2022 19:51:28          7010   \n",
              "4         3486131  17/01/2022 00:00:00  17/01/2022 09:28:38         26646   \n",
              "\n",
              "   CD_CONTA_FFCV      TP_CONTA  CD_CONVENIO  CD_PRO_INT_PROCEDIMENTO_ENTRAD  \\\n",
              "0        2907457  Ambulatorial           48                      10101039.0   \n",
              "1        2892310  Ambulatorial          742                      10101039.0   \n",
              "2        2920176  Ambulatorial            5                      10101039.0   \n",
              "3        2900292  Ambulatorial           13                      97000001.0   \n",
              "4        2902030  Ambulatorial            7                      10101039.0   \n",
              "\n",
              "   VL_TOTAL_CONTA  \n",
              "0          648.27  \n",
              "1            0.01  \n",
              "2         1755.64  \n",
              "3         1662.91  \n",
              "4         2102.84  "
            ],
            "text/html": [
              "\n",
              "  <div id=\"df-61efa005-47b2-4f47-b239-7973c8458ac3\">\n",
              "    <div class=\"colab-df-container\">\n",
              "      <div>\n",
              "<style scoped>\n",
              "    .dataframe tbody tr th:only-of-type {\n",
              "        vertical-align: middle;\n",
              "    }\n",
              "\n",
              "    .dataframe tbody tr th {\n",
              "        vertical-align: top;\n",
              "    }\n",
              "\n",
              "    .dataframe thead th {\n",
              "        text-align: right;\n",
              "    }\n",
              "</style>\n",
              "<table border=\"1\" class=\"dataframe\">\n",
              "  <thead>\n",
              "    <tr style=\"text-align: right;\">\n",
              "      <th></th>\n",
              "      <th>CD_ATENDIMENTO</th>\n",
              "      <th>DT_ATENDIMENTO</th>\n",
              "      <th>DT_ALTA</th>\n",
              "      <th>CD_PRESTADOR</th>\n",
              "      <th>CD_CONTA_FFCV</th>\n",
              "      <th>TP_CONTA</th>\n",
              "      <th>CD_CONVENIO</th>\n",
              "      <th>CD_PRO_INT_PROCEDIMENTO_ENTRAD</th>\n",
              "      <th>VL_TOTAL_CONTA</th>\n",
              "    </tr>\n",
              "  </thead>\n",
              "  <tbody>\n",
              "    <tr>\n",
              "      <th>0</th>\n",
              "      <td>3492787</td>\n",
              "      <td>18/01/2022 00:00:00</td>\n",
              "      <td>18/01/2022 16:10:44</td>\n",
              "      <td>31026</td>\n",
              "      <td>2907457</td>\n",
              "      <td>Ambulatorial</td>\n",
              "      <td>48</td>\n",
              "      <td>10101039.0</td>\n",
              "      <td>648.27</td>\n",
              "    </tr>\n",
              "    <tr>\n",
              "      <th>1</th>\n",
              "      <td>3474848</td>\n",
              "      <td>12/01/2022 00:00:00</td>\n",
              "      <td>12/01/2022 23:38:17</td>\n",
              "      <td>7010</td>\n",
              "      <td>2892310</td>\n",
              "      <td>Ambulatorial</td>\n",
              "      <td>742</td>\n",
              "      <td>10101039.0</td>\n",
              "      <td>0.01</td>\n",
              "    </tr>\n",
              "    <tr>\n",
              "      <th>2</th>\n",
              "      <td>3507533</td>\n",
              "      <td>22/01/2022 00:00:00</td>\n",
              "      <td>23/01/2022 02:37:25</td>\n",
              "      <td>35430</td>\n",
              "      <td>2920176</td>\n",
              "      <td>Ambulatorial</td>\n",
              "      <td>5</td>\n",
              "      <td>10101039.0</td>\n",
              "      <td>1755.64</td>\n",
              "    </tr>\n",
              "    <tr>\n",
              "      <th>3</th>\n",
              "      <td>3484247</td>\n",
              "      <td>15/01/2022 00:00:00</td>\n",
              "      <td>15/01/2022 19:51:28</td>\n",
              "      <td>7010</td>\n",
              "      <td>2900292</td>\n",
              "      <td>Ambulatorial</td>\n",
              "      <td>13</td>\n",
              "      <td>97000001.0</td>\n",
              "      <td>1662.91</td>\n",
              "    </tr>\n",
              "    <tr>\n",
              "      <th>4</th>\n",
              "      <td>3486131</td>\n",
              "      <td>17/01/2022 00:00:00</td>\n",
              "      <td>17/01/2022 09:28:38</td>\n",
              "      <td>26646</td>\n",
              "      <td>2902030</td>\n",
              "      <td>Ambulatorial</td>\n",
              "      <td>7</td>\n",
              "      <td>10101039.0</td>\n",
              "      <td>2102.84</td>\n",
              "    </tr>\n",
              "  </tbody>\n",
              "</table>\n",
              "</div>\n",
              "      <button class=\"colab-df-convert\" onclick=\"convertToInteractive('df-61efa005-47b2-4f47-b239-7973c8458ac3')\"\n",
              "              title=\"Convert this dataframe to an interactive table.\"\n",
              "              style=\"display:none;\">\n",
              "        \n",
              "  <svg xmlns=\"http://www.w3.org/2000/svg\" height=\"24px\"viewBox=\"0 0 24 24\"\n",
              "       width=\"24px\">\n",
              "    <path d=\"M0 0h24v24H0V0z\" fill=\"none\"/>\n",
              "    <path d=\"M18.56 5.44l.94 2.06.94-2.06 2.06-.94-2.06-.94-.94-2.06-.94 2.06-2.06.94zm-11 1L8.5 8.5l.94-2.06 2.06-.94-2.06-.94L8.5 2.5l-.94 2.06-2.06.94zm10 10l.94 2.06.94-2.06 2.06-.94-2.06-.94-.94-2.06-.94 2.06-2.06.94z\"/><path d=\"M17.41 7.96l-1.37-1.37c-.4-.4-.92-.59-1.43-.59-.52 0-1.04.2-1.43.59L10.3 9.45l-7.72 7.72c-.78.78-.78 2.05 0 2.83L4 21.41c.39.39.9.59 1.41.59.51 0 1.02-.2 1.41-.59l7.78-7.78 2.81-2.81c.8-.78.8-2.07 0-2.86zM5.41 20L4 18.59l7.72-7.72 1.47 1.35L5.41 20z\"/>\n",
              "  </svg>\n",
              "      </button>\n",
              "      \n",
              "  <style>\n",
              "    .colab-df-container {\n",
              "      display:flex;\n",
              "      flex-wrap:wrap;\n",
              "      gap: 12px;\n",
              "    }\n",
              "\n",
              "    .colab-df-convert {\n",
              "      background-color: #E8F0FE;\n",
              "      border: none;\n",
              "      border-radius: 50%;\n",
              "      cursor: pointer;\n",
              "      display: none;\n",
              "      fill: #1967D2;\n",
              "      height: 32px;\n",
              "      padding: 0 0 0 0;\n",
              "      width: 32px;\n",
              "    }\n",
              "\n",
              "    .colab-df-convert:hover {\n",
              "      background-color: #E2EBFA;\n",
              "      box-shadow: 0px 1px 2px rgba(60, 64, 67, 0.3), 0px 1px 3px 1px rgba(60, 64, 67, 0.15);\n",
              "      fill: #174EA6;\n",
              "    }\n",
              "\n",
              "    [theme=dark] .colab-df-convert {\n",
              "      background-color: #3B4455;\n",
              "      fill: #D2E3FC;\n",
              "    }\n",
              "\n",
              "    [theme=dark] .colab-df-convert:hover {\n",
              "      background-color: #434B5C;\n",
              "      box-shadow: 0px 1px 3px 1px rgba(0, 0, 0, 0.15);\n",
              "      filter: drop-shadow(0px 1px 2px rgba(0, 0, 0, 0.3));\n",
              "      fill: #FFFFFF;\n",
              "    }\n",
              "  </style>\n",
              "\n",
              "      <script>\n",
              "        const buttonEl =\n",
              "          document.querySelector('#df-61efa005-47b2-4f47-b239-7973c8458ac3 button.colab-df-convert');\n",
              "        buttonEl.style.display =\n",
              "          google.colab.kernel.accessAllowed ? 'block' : 'none';\n",
              "\n",
              "        async function convertToInteractive(key) {\n",
              "          const element = document.querySelector('#df-61efa005-47b2-4f47-b239-7973c8458ac3');\n",
              "          const dataTable =\n",
              "            await google.colab.kernel.invokeFunction('convertToInteractive',\n",
              "                                                     [key], {});\n",
              "          if (!dataTable) return;\n",
              "\n",
              "          const docLinkHtml = 'Like what you see? Visit the ' +\n",
              "            '<a target=\"_blank\" href=https://colab.research.google.com/notebooks/data_table.ipynb>data table notebook</a>'\n",
              "            + ' to learn more about interactive tables.';\n",
              "          element.innerHTML = '';\n",
              "          dataTable['output_type'] = 'display_data';\n",
              "          await google.colab.output.renderOutput(dataTable, element);\n",
              "          const docLink = document.createElement('div');\n",
              "          docLink.innerHTML = docLinkHtml;\n",
              "          element.appendChild(docLink);\n",
              "        }\n",
              "      </script>\n",
              "    </div>\n",
              "  </div>\n",
              "  "
            ]
          },
          "metadata": {},
          "execution_count": 12
        }
      ]
    },
    {
      "cell_type": "code",
      "source": [
        "colunas_conta_urg = ['CD_ATENDIMENTO']\n",
        "df_total_conta = df_conta_urg.groupby(colunas_conta_urg, as_index=False)['VL_TOTAL_CONTA'].sum()"
      ],
      "metadata": {
        "id": "M9wsoI5fA8_s"
      },
      "execution_count": null,
      "outputs": []
    },
    {
      "cell_type": "code",
      "source": [
        "df_total_conta.tail()"
      ],
      "metadata": {
        "colab": {
          "base_uri": "https://localhost:8080/",
          "height": 206
        },
        "id": "aCjQmrx0b1AM",
        "outputId": "2a5b843d-481e-4b52-c36d-e3bbbc46ae64"
      },
      "execution_count": null,
      "outputs": [
        {
          "output_type": "execute_result",
          "data": {
            "text/plain": [
              "       CD_ATENDIMENTO  VL_TOTAL_CONTA\n",
              "12236         4473328         1757.08\n",
              "12237         4473341         1749.37\n",
              "12238         4473346         1200.94\n",
              "12239         4473370         1428.42\n",
              "12240         4473379         1425.41"
            ],
            "text/html": [
              "\n",
              "  <div id=\"df-20c62b20-794a-41ab-a5e5-c733fbc4bfa4\">\n",
              "    <div class=\"colab-df-container\">\n",
              "      <div>\n",
              "<style scoped>\n",
              "    .dataframe tbody tr th:only-of-type {\n",
              "        vertical-align: middle;\n",
              "    }\n",
              "\n",
              "    .dataframe tbody tr th {\n",
              "        vertical-align: top;\n",
              "    }\n",
              "\n",
              "    .dataframe thead th {\n",
              "        text-align: right;\n",
              "    }\n",
              "</style>\n",
              "<table border=\"1\" class=\"dataframe\">\n",
              "  <thead>\n",
              "    <tr style=\"text-align: right;\">\n",
              "      <th></th>\n",
              "      <th>CD_ATENDIMENTO</th>\n",
              "      <th>VL_TOTAL_CONTA</th>\n",
              "    </tr>\n",
              "  </thead>\n",
              "  <tbody>\n",
              "    <tr>\n",
              "      <th>12236</th>\n",
              "      <td>4473328</td>\n",
              "      <td>1757.08</td>\n",
              "    </tr>\n",
              "    <tr>\n",
              "      <th>12237</th>\n",
              "      <td>4473341</td>\n",
              "      <td>1749.37</td>\n",
              "    </tr>\n",
              "    <tr>\n",
              "      <th>12238</th>\n",
              "      <td>4473346</td>\n",
              "      <td>1200.94</td>\n",
              "    </tr>\n",
              "    <tr>\n",
              "      <th>12239</th>\n",
              "      <td>4473370</td>\n",
              "      <td>1428.42</td>\n",
              "    </tr>\n",
              "    <tr>\n",
              "      <th>12240</th>\n",
              "      <td>4473379</td>\n",
              "      <td>1425.41</td>\n",
              "    </tr>\n",
              "  </tbody>\n",
              "</table>\n",
              "</div>\n",
              "      <button class=\"colab-df-convert\" onclick=\"convertToInteractive('df-20c62b20-794a-41ab-a5e5-c733fbc4bfa4')\"\n",
              "              title=\"Convert this dataframe to an interactive table.\"\n",
              "              style=\"display:none;\">\n",
              "        \n",
              "  <svg xmlns=\"http://www.w3.org/2000/svg\" height=\"24px\"viewBox=\"0 0 24 24\"\n",
              "       width=\"24px\">\n",
              "    <path d=\"M0 0h24v24H0V0z\" fill=\"none\"/>\n",
              "    <path d=\"M18.56 5.44l.94 2.06.94-2.06 2.06-.94-2.06-.94-.94-2.06-.94 2.06-2.06.94zm-11 1L8.5 8.5l.94-2.06 2.06-.94-2.06-.94L8.5 2.5l-.94 2.06-2.06.94zm10 10l.94 2.06.94-2.06 2.06-.94-2.06-.94-.94-2.06-.94 2.06-2.06.94z\"/><path d=\"M17.41 7.96l-1.37-1.37c-.4-.4-.92-.59-1.43-.59-.52 0-1.04.2-1.43.59L10.3 9.45l-7.72 7.72c-.78.78-.78 2.05 0 2.83L4 21.41c.39.39.9.59 1.41.59.51 0 1.02-.2 1.41-.59l7.78-7.78 2.81-2.81c.8-.78.8-2.07 0-2.86zM5.41 20L4 18.59l7.72-7.72 1.47 1.35L5.41 20z\"/>\n",
              "  </svg>\n",
              "      </button>\n",
              "      \n",
              "  <style>\n",
              "    .colab-df-container {\n",
              "      display:flex;\n",
              "      flex-wrap:wrap;\n",
              "      gap: 12px;\n",
              "    }\n",
              "\n",
              "    .colab-df-convert {\n",
              "      background-color: #E8F0FE;\n",
              "      border: none;\n",
              "      border-radius: 50%;\n",
              "      cursor: pointer;\n",
              "      display: none;\n",
              "      fill: #1967D2;\n",
              "      height: 32px;\n",
              "      padding: 0 0 0 0;\n",
              "      width: 32px;\n",
              "    }\n",
              "\n",
              "    .colab-df-convert:hover {\n",
              "      background-color: #E2EBFA;\n",
              "      box-shadow: 0px 1px 2px rgba(60, 64, 67, 0.3), 0px 1px 3px 1px rgba(60, 64, 67, 0.15);\n",
              "      fill: #174EA6;\n",
              "    }\n",
              "\n",
              "    [theme=dark] .colab-df-convert {\n",
              "      background-color: #3B4455;\n",
              "      fill: #D2E3FC;\n",
              "    }\n",
              "\n",
              "    [theme=dark] .colab-df-convert:hover {\n",
              "      background-color: #434B5C;\n",
              "      box-shadow: 0px 1px 3px 1px rgba(0, 0, 0, 0.15);\n",
              "      filter: drop-shadow(0px 1px 2px rgba(0, 0, 0, 0.3));\n",
              "      fill: #FFFFFF;\n",
              "    }\n",
              "  </style>\n",
              "\n",
              "      <script>\n",
              "        const buttonEl =\n",
              "          document.querySelector('#df-20c62b20-794a-41ab-a5e5-c733fbc4bfa4 button.colab-df-convert');\n",
              "        buttonEl.style.display =\n",
              "          google.colab.kernel.accessAllowed ? 'block' : 'none';\n",
              "\n",
              "        async function convertToInteractive(key) {\n",
              "          const element = document.querySelector('#df-20c62b20-794a-41ab-a5e5-c733fbc4bfa4');\n",
              "          const dataTable =\n",
              "            await google.colab.kernel.invokeFunction('convertToInteractive',\n",
              "                                                     [key], {});\n",
              "          if (!dataTable) return;\n",
              "\n",
              "          const docLinkHtml = 'Like what you see? Visit the ' +\n",
              "            '<a target=\"_blank\" href=https://colab.research.google.com/notebooks/data_table.ipynb>data table notebook</a>'\n",
              "            + ' to learn more about interactive tables.';\n",
              "          element.innerHTML = '';\n",
              "          dataTable['output_type'] = 'display_data';\n",
              "          await google.colab.output.renderOutput(dataTable, element);\n",
              "          const docLink = document.createElement('div');\n",
              "          docLink.innerHTML = docLinkHtml;\n",
              "          element.appendChild(docLink);\n",
              "        }\n",
              "      </script>\n",
              "    </div>\n",
              "  </div>\n",
              "  "
            ]
          },
          "metadata": {},
          "execution_count": 17
        }
      ]
    },
    {
      "cell_type": "code",
      "source": [
        "cria_planilha(df_total_conta, 'total_conta_urgencia.csv', dataset_final)"
      ],
      "metadata": {
        "id": "ih9YZbTzdvHH"
      },
      "execution_count": null,
      "outputs": []
    },
    {
      "cell_type": "markdown",
      "source": [
        "##Pedidos de Exames Laboratorio e Imagem"
      ],
      "metadata": {
        "id": "mJS4CSdKVo5U"
      }
    },
    {
      "cell_type": "code",
      "source": [
        "df_exa_lab = le_planilha('exame_lab.csv', separador=\";\")\n",
        "df_exa_imagem = le_planilha('exame_imagem.csv', separador=\";\")"
      ],
      "metadata": {
        "id": "xtsF5eW5TsgN"
      },
      "execution_count": null,
      "outputs": []
    },
    {
      "cell_type": "code",
      "source": [
        "df_exa_lab.info()"
      ],
      "metadata": {
        "colab": {
          "base_uri": "https://localhost:8080/"
        },
        "id": "4jcvW5uyZtN9",
        "outputId": "a35caf56-051c-4172-908c-70eb40ad2d17"
      },
      "execution_count": null,
      "outputs": [
        {
          "output_type": "stream",
          "name": "stdout",
          "text": [
            "<class 'pandas.core.frame.DataFrame'>\n",
            "RangeIndex: 162461 entries, 0 to 162460\n",
            "Data columns (total 18 columns):\n",
            " #   Column            Non-Null Count   Dtype  \n",
            "---  ------            --------------   -----  \n",
            " 0   CD_PACIENTE       162461 non-null  int64  \n",
            " 1   NM_PACIENTE       162461 non-null  object \n",
            " 2   CD_ATENDIMENTO    162461 non-null  int64  \n",
            " 3   CD_PED_LAB        162461 non-null  int64  \n",
            " 4   CD_SETOR          162461 non-null  int64  \n",
            " 5   CD_EXA_LAB        162461 non-null  int64  \n",
            " 6   NM_EXA_LAB        162461 non-null  object \n",
            " 7   NM_MNEMONICO      162461 non-null  object \n",
            " 8   CD_PRESTADOR      162449 non-null  float64\n",
            " 9   NM_PRESTADOR      162378 non-null  object \n",
            " 10  CD_CONVENIO       162461 non-null  int64  \n",
            " 11  NM_CONVENIO       162461 non-null  object \n",
            " 12  CD_CON_PLA        162461 non-null  int64  \n",
            " 13  CD_PRE_MED        162081 non-null  float64\n",
            " 14  CD_MULTI_EMPRESA  162461 non-null  int64  \n",
            " 15  TP_SOLICITACAO    162461 non-null  object \n",
            " 16  DT_COLETA         162461 non-null  object \n",
            " 17  HR_COLETA         162461 non-null  object \n",
            "dtypes: float64(2), int64(8), object(8)\n",
            "memory usage: 22.3+ MB\n"
          ]
        }
      ]
    },
    {
      "cell_type": "code",
      "source": [
        "df_exa_lab['DT_COLETA'] = pd.to_datetime(df_exa_lab['DT_COLETA'], dayfirst=True)\n",
        "df_exa_lab['HR_COLETA'] = pd.to_datetime(df_exa_lab['HR_COLETA'], dayfirst=True)"
      ],
      "metadata": {
        "id": "sgpoHMCnkRDm"
      },
      "execution_count": null,
      "outputs": []
    },
    {
      "cell_type": "code",
      "source": [
        "df_exa_imagem.info()"
      ],
      "metadata": {
        "colab": {
          "base_uri": "https://localhost:8080/"
        },
        "id": "l8c-NAZijXFT",
        "outputId": "0f67a9c4-b44e-41b8-c93b-9f726ee66fef"
      },
      "execution_count": null,
      "outputs": [
        {
          "output_type": "stream",
          "name": "stdout",
          "text": [
            "<class 'pandas.core.frame.DataFrame'>\n",
            "RangeIndex: 18133 entries, 0 to 18132\n",
            "Data columns (total 17 columns):\n",
            " #   Column                         Non-Null Count  Dtype  \n",
            "---  ------                         --------------  -----  \n",
            " 0   PEDIDO                         18133 non-null  int64  \n",
            " 1   DT_PEDIDO                      18133 non-null  object \n",
            " 2   HR_PEDIDO                      18133 non-null  object \n",
            " 3   CD_ATENDIMENTO                 18133 non-null  int64  \n",
            " 4   CD_CONVENIO                    18133 non-null  int64  \n",
            " 5   NM_CONVENIO                    18133 non-null  object \n",
            " 6   TP_CONVENIO                    18133 non-null  object \n",
            " 7   PLANO_CONVENIO                 18133 non-null  int64  \n",
            " 8   PRESTADOR                      18132 non-null  float64\n",
            " 9   FLAG_MOTIVO_DA_SOLICITACAO     18133 non-null  object \n",
            " 10  TIPO_DO_MOTIVO_DA_SOLICITACAO  18133 non-null  object \n",
            " 11  CD_PRESCRICAO                  18132 non-null  float64\n",
            " 12  EXAME                          18133 non-null  int64  \n",
            " 13  DESCRICAO_DO_EXAME             18133 non-null  object \n",
            " 14  DESCRICAO_DO_MNEMONICO         7828 non-null   object \n",
            " 15  FLAG_REALIZADO                 18133 non-null  object \n",
            " 16  CHAVE_DO_ITEM_PRESCRITO        18132 non-null  float64\n",
            "dtypes: float64(3), int64(5), object(9)\n",
            "memory usage: 2.4+ MB\n"
          ]
        }
      ]
    },
    {
      "cell_type": "code",
      "source": [
        "df_exa_imagem['DT_PEDIDO'] = pd.to_datetime(df_exa_imagem['DT_PEDIDO'], dayfirst=True)\n",
        "df_exa_imagem['HR_PEDIDO'] = pd.to_datetime(df_exa_imagem['HR_PEDIDO'], dayfirst=True)"
      ],
      "metadata": {
        "id": "DzzOOXPwnUW0"
      },
      "execution_count": null,
      "outputs": []
    },
    {
      "cell_type": "code",
      "source": [
        "df_exa_lab.isnull().sum()"
      ],
      "metadata": {
        "colab": {
          "base_uri": "https://localhost:8080/"
        },
        "id": "skeeyxNEnqnQ",
        "outputId": "98aa4d23-6c69-4fee-cdc9-68c9686e9b98"
      },
      "execution_count": null,
      "outputs": [
        {
          "output_type": "execute_result",
          "data": {
            "text/plain": [
              "CD_PACIENTE           0\n",
              "NM_PACIENTE           0\n",
              "CD_ATENDIMENTO        0\n",
              "CD_PED_LAB            0\n",
              "CD_SETOR              0\n",
              "CD_EXA_LAB            0\n",
              "NM_EXA_LAB            0\n",
              "NM_MNEMONICO          0\n",
              "CD_PRESTADOR         12\n",
              "NM_PRESTADOR         83\n",
              "CD_CONVENIO           0\n",
              "NM_CONVENIO           0\n",
              "CD_CON_PLA            0\n",
              "CD_PRE_MED          380\n",
              "CD_MULTI_EMPRESA      0\n",
              "TP_SOLICITACAO        0\n",
              "DT_COLETA             0\n",
              "HR_COLETA             0\n",
              "dtype: int64"
            ]
          },
          "metadata": {},
          "execution_count": 20
        }
      ]
    },
    {
      "cell_type": "code",
      "source": [
        "df_exa_lab.drop(['CD_PRESTADOR', 'NM_PRESTADOR', 'CD_CON_PLA','CD_PRE_MED','CD_MULTI_EMPRESA'], axis=1, inplace=True)"
      ],
      "metadata": {
        "id": "Z_CmZ_9upkAo"
      },
      "execution_count": null,
      "outputs": []
    },
    {
      "cell_type": "code",
      "source": [
        "df_exa_lab.info()"
      ],
      "metadata": {
        "colab": {
          "base_uri": "https://localhost:8080/"
        },
        "id": "LiActKKiqddT",
        "outputId": "c18c95c5-162b-408f-92e6-acde97c8c132"
      },
      "execution_count": null,
      "outputs": [
        {
          "output_type": "stream",
          "name": "stdout",
          "text": [
            "<class 'pandas.core.frame.DataFrame'>\n",
            "RangeIndex: 162461 entries, 0 to 162460\n",
            "Data columns (total 13 columns):\n",
            " #   Column          Non-Null Count   Dtype         \n",
            "---  ------          --------------   -----         \n",
            " 0   CD_PACIENTE     162461 non-null  int64         \n",
            " 1   NM_PACIENTE     162461 non-null  object        \n",
            " 2   CD_ATENDIMENTO  162461 non-null  int64         \n",
            " 3   CD_PED_LAB      162461 non-null  int64         \n",
            " 4   CD_SETOR        162461 non-null  int64         \n",
            " 5   CD_EXA_LAB      162461 non-null  int64         \n",
            " 6   NM_EXA_LAB      162461 non-null  object        \n",
            " 7   NM_MNEMONICO    162461 non-null  object        \n",
            " 8   CD_CONVENIO     162461 non-null  int64         \n",
            " 9   NM_CONVENIO     162461 non-null  object        \n",
            " 10  TP_SOLICITACAO  162461 non-null  object        \n",
            " 11  DT_COLETA       162461 non-null  datetime64[ns]\n",
            " 12  HR_COLETA       162461 non-null  datetime64[ns]\n",
            "dtypes: datetime64[ns](2), int64(6), object(5)\n",
            "memory usage: 16.1+ MB\n"
          ]
        }
      ]
    },
    {
      "cell_type": "code",
      "source": [
        "df_exa_imagem.isnull().sum()"
      ],
      "metadata": {
        "colab": {
          "base_uri": "https://localhost:8080/"
        },
        "id": "pWRzmogjqhg8",
        "outputId": "e40b7cb9-31c8-4e7a-c3a5-3a61f13198b2"
      },
      "execution_count": null,
      "outputs": [
        {
          "output_type": "execute_result",
          "data": {
            "text/plain": [
              "PEDIDO                               0\n",
              "DT_PEDIDO                            0\n",
              "HR_PEDIDO                            0\n",
              "CD_ATENDIMENTO                       0\n",
              "CD_CONVENIO                          0\n",
              "NM_CONVENIO                          0\n",
              "TP_CONVENIO                          0\n",
              "PLANO_CONVENIO                       0\n",
              "PRESTADOR                            1\n",
              "FLAG_MOTIVO_DA_SOLICITACAO           0\n",
              "TIPO_DO_MOTIVO_DA_SOLICITACAO        0\n",
              "CD_PRESCRICAO                        1\n",
              "EXAME                                0\n",
              "DESCRICAO_DO_EXAME                   0\n",
              "DESCRICAO_DO_MNEMONICO           10305\n",
              "FLAG_REALIZADO                       0\n",
              "CHAVE_DO_ITEM_PRESCRITO              1\n",
              "dtype: int64"
            ]
          },
          "metadata": {},
          "execution_count": 23
        }
      ]
    },
    {
      "cell_type": "code",
      "source": [
        "df_exa_imagem.drop(['PLANO_CONVENIO','PRESTADOR','CD_PRESCRICAO','DESCRICAO_DO_MNEMONICO','CHAVE_DO_ITEM_PRESCRITO'], inplace=True, axis=1)"
      ],
      "metadata": {
        "id": "4nsnoJqOqtSj"
      },
      "execution_count": null,
      "outputs": []
    },
    {
      "cell_type": "code",
      "source": [
        "df_exa_imagem.info()"
      ],
      "metadata": {
        "colab": {
          "base_uri": "https://localhost:8080/"
        },
        "id": "7BH1gG1zrkl8",
        "outputId": "c879e52e-a1aa-4e02-a543-2d656818e786"
      },
      "execution_count": null,
      "outputs": [
        {
          "output_type": "stream",
          "name": "stdout",
          "text": [
            "<class 'pandas.core.frame.DataFrame'>\n",
            "RangeIndex: 18133 entries, 0 to 18132\n",
            "Data columns (total 12 columns):\n",
            " #   Column                         Non-Null Count  Dtype         \n",
            "---  ------                         --------------  -----         \n",
            " 0   PEDIDO                         18133 non-null  int64         \n",
            " 1   DT_PEDIDO                      18133 non-null  datetime64[ns]\n",
            " 2   HR_PEDIDO                      18133 non-null  datetime64[ns]\n",
            " 3   CD_ATENDIMENTO                 18133 non-null  int64         \n",
            " 4   CD_CONVENIO                    18133 non-null  int64         \n",
            " 5   NM_CONVENIO                    18133 non-null  object        \n",
            " 6   TP_CONVENIO                    18133 non-null  object        \n",
            " 7   FLAG_MOTIVO_DA_SOLICITACAO     18133 non-null  object        \n",
            " 8   TIPO_DO_MOTIVO_DA_SOLICITACAO  18133 non-null  object        \n",
            " 9   EXAME                          18133 non-null  int64         \n",
            " 10  DESCRICAO_DO_EXAME             18133 non-null  object        \n",
            " 11  FLAG_REALIZADO                 18133 non-null  object        \n",
            "dtypes: datetime64[ns](2), int64(4), object(6)\n",
            "memory usage: 1.7+ MB\n"
          ]
        }
      ]
    },
    {
      "cell_type": "code",
      "source": [
        "cria_planilha(df_exa_imagem, 'exames_imagem.csv', dataset_final)\n",
        "cria_planilha(df_exa_lab, 'exames_laboratorio.csv', dataset_final)"
      ],
      "metadata": {
        "id": "uH7vqwX8rmnz"
      },
      "execution_count": null,
      "outputs": []
    },
    {
      "cell_type": "markdown",
      "source": [
        "##Documentos Eletronicos"
      ],
      "metadata": {
        "id": "enICRLcmzIU1"
      }
    },
    {
      "cell_type": "code",
      "source": [
        "df_doc_eletronico = le_planilha('doc_eletronicos.csv')"
      ],
      "metadata": {
        "id": "ck9rdPUUr3qA"
      },
      "execution_count": null,
      "outputs": []
    },
    {
      "cell_type": "code",
      "source": [
        "df_doc_eletronico.info()"
      ],
      "metadata": {
        "colab": {
          "base_uri": "https://localhost:8080/"
        },
        "id": "mmenytR9s3bv",
        "outputId": "e01bd5cf-05a2-447c-dfbb-92a414fccdf7"
      },
      "execution_count": null,
      "outputs": [
        {
          "output_type": "stream",
          "name": "stdout",
          "text": [
            "<class 'pandas.core.frame.DataFrame'>\n",
            "RangeIndex: 94316 entries, 0 to 94315\n",
            "Data columns (total 1 columns):\n",
            " #   Column                                    Non-Null Count  Dtype \n",
            "---  ------                                    --------------  ----- \n",
            " 0   CD_DOCUMENTO;NM_DOCUMENTO;CD_ATENDIMENTO  94316 non-null  object\n",
            "dtypes: object(1)\n",
            "memory usage: 737.0+ KB\n"
          ]
        }
      ]
    },
    {
      "cell_type": "code",
      "source": [
        "cria_planilha(df_doc_eletronico, 'doc_eletronico.csv', dataset_final)"
      ],
      "metadata": {
        "id": "AwRQcxnMvWZ0"
      },
      "execution_count": null,
      "outputs": []
    },
    {
      "cell_type": "markdown",
      "source": [
        "##Pacientes"
      ],
      "metadata": {
        "id": "e85quJzYAdpQ"
      }
    },
    {
      "cell_type": "code",
      "source": [
        "df_pacientes = le_planilha('pacientes.csv', separador=\";\")"
      ],
      "metadata": {
        "id": "bZnRCVL0v4dq"
      },
      "execution_count": null,
      "outputs": []
    },
    {
      "cell_type": "code",
      "source": [
        "df_pacientes.info()"
      ],
      "metadata": {
        "colab": {
          "base_uri": "https://localhost:8080/"
        },
        "id": "DYM4f42T0AeQ",
        "outputId": "4c2cdf98-8d91-4439-edb9-e9cb980c919b"
      },
      "execution_count": null,
      "outputs": [
        {
          "output_type": "stream",
          "name": "stdout",
          "text": [
            "<class 'pandas.core.frame.DataFrame'>\n",
            "RangeIndex: 9613 entries, 0 to 9612\n",
            "Data columns (total 7 columns):\n",
            " #   Column           Non-Null Count  Dtype  \n",
            "---  ------           --------------  -----  \n",
            " 0   CD_PACIENTE      9613 non-null   int64  \n",
            " 1   DT_NASCIMENTO    9613 non-null   object \n",
            " 2   TP_SEXO          9613 non-null   object \n",
            " 3   TP_ESTADO_CIVIL  9613 non-null   object \n",
            " 4   CD_CIDADE        9613 non-null   int64  \n",
            " 5   NR_CEP           9613 non-null   int64  \n",
            " 6   CD_NATURALIDADE  3661 non-null   float64\n",
            "dtypes: float64(1), int64(3), object(3)\n",
            "memory usage: 525.8+ KB\n"
          ]
        }
      ]
    },
    {
      "cell_type": "code",
      "source": [
        "df_pacientes['DT_NASCIMENTO'] = pd.to_datetime(df_pacientes['DT_NASCIMENTO'], dayfirst=True)"
      ],
      "metadata": {
        "id": "ibWqn29W_uWR"
      },
      "execution_count": null,
      "outputs": []
    },
    {
      "cell_type": "code",
      "source": [
        "df_pacientes['CD_CIDADE'].unique().shape"
      ],
      "metadata": {
        "colab": {
          "base_uri": "https://localhost:8080/"
        },
        "id": "QKoBj1DT0OlU",
        "outputId": "d045e230-a218-417a-f337-fe16268c2f74"
      },
      "execution_count": null,
      "outputs": [
        {
          "output_type": "execute_result",
          "data": {
            "text/plain": [
              "(200,)"
            ]
          },
          "metadata": {},
          "execution_count": 37
        }
      ]
    },
    {
      "cell_type": "code",
      "source": [
        "df_pacientes['CD_NATURALIDADE'].unique().shape"
      ],
      "metadata": {
        "colab": {
          "base_uri": "https://localhost:8080/"
        },
        "id": "EpaqB67M1WO_",
        "outputId": "1bc889c4-2c04-4962-bcf3-cd36ffdd337c"
      },
      "execution_count": null,
      "outputs": [
        {
          "output_type": "execute_result",
          "data": {
            "text/plain": [
              "(260,)"
            ]
          },
          "metadata": {},
          "execution_count": 38
        }
      ]
    },
    {
      "cell_type": "code",
      "source": [
        "df_pacientes['NR_CEP'].unique().shape"
      ],
      "metadata": {
        "colab": {
          "base_uri": "https://localhost:8080/"
        },
        "id": "Ps7VXSnq2jZL",
        "outputId": "35bf7f27-9fbd-4aab-c5a9-74920c161875"
      },
      "execution_count": null,
      "outputs": [
        {
          "output_type": "execute_result",
          "data": {
            "text/plain": [
              "(5824,)"
            ]
          },
          "metadata": {},
          "execution_count": 39
        }
      ]
    },
    {
      "cell_type": "code",
      "source": [
        "df_pacientes.drop(['NR_CEP', 'CD_NATURALIDADE'], axis=1, inplace=True)"
      ],
      "metadata": {
        "id": "jVOnIuWF3hr-"
      },
      "execution_count": null,
      "outputs": []
    },
    {
      "cell_type": "code",
      "source": [
        "df_pacientes.info()"
      ],
      "metadata": {
        "colab": {
          "base_uri": "https://localhost:8080/"
        },
        "id": "M1cLWOtU3xRi",
        "outputId": "2cbc5907-39d7-4d46-95b0-b321f59b8d5a"
      },
      "execution_count": null,
      "outputs": [
        {
          "output_type": "stream",
          "name": "stdout",
          "text": [
            "<class 'pandas.core.frame.DataFrame'>\n",
            "RangeIndex: 9613 entries, 0 to 9612\n",
            "Data columns (total 5 columns):\n",
            " #   Column           Non-Null Count  Dtype         \n",
            "---  ------           --------------  -----         \n",
            " 0   CD_PACIENTE      9613 non-null   int64         \n",
            " 1   DT_NASCIMENTO    9613 non-null   datetime64[ns]\n",
            " 2   TP_SEXO          9613 non-null   object        \n",
            " 3   TP_ESTADO_CIVIL  9613 non-null   object        \n",
            " 4   CD_CIDADE        9613 non-null   int64         \n",
            "dtypes: datetime64[ns](1), int64(2), object(2)\n",
            "memory usage: 375.6+ KB\n"
          ]
        }
      ]
    },
    {
      "cell_type": "code",
      "source": [
        "df_pacientes['IDADE'] = df_pacientes['DT_NASCIMENTO'].apply(calculaIdade)"
      ],
      "metadata": {
        "id": "1qtrLU5h30JB"
      },
      "execution_count": null,
      "outputs": []
    },
    {
      "cell_type": "code",
      "source": [
        "df_pacientes.head()"
      ],
      "metadata": {
        "colab": {
          "base_uri": "https://localhost:8080/",
          "height": 206
        },
        "id": "Cfobs6wv0GHu",
        "outputId": "6711df06-b6ff-46de-d47a-581d763927c6"
      },
      "execution_count": null,
      "outputs": [
        {
          "output_type": "execute_result",
          "data": {
            "text/plain": [
              "   CD_PACIENTE       DT_NASCIMENTO TP_SEXO TP_ESTADO_CIVIL  CD_CIDADE  IDADE\n",
              "0            3 2008-03-31 02:00:00       M               C      22651     14\n",
              "1         1071 1954-05-10 02:00:00       F               C      22571     68\n",
              "2         1520 1955-04-01 02:00:00       F               C      22651     67\n",
              "3         3067 1938-02-05 02:00:00       F               S      22651     84\n",
              "4         3935 1951-12-01 02:00:00       F               C      22651     71"
            ],
            "text/html": [
              "\n",
              "  <div id=\"df-80692da9-50ca-44f1-978a-217849b85384\">\n",
              "    <div class=\"colab-df-container\">\n",
              "      <div>\n",
              "<style scoped>\n",
              "    .dataframe tbody tr th:only-of-type {\n",
              "        vertical-align: middle;\n",
              "    }\n",
              "\n",
              "    .dataframe tbody tr th {\n",
              "        vertical-align: top;\n",
              "    }\n",
              "\n",
              "    .dataframe thead th {\n",
              "        text-align: right;\n",
              "    }\n",
              "</style>\n",
              "<table border=\"1\" class=\"dataframe\">\n",
              "  <thead>\n",
              "    <tr style=\"text-align: right;\">\n",
              "      <th></th>\n",
              "      <th>CD_PACIENTE</th>\n",
              "      <th>DT_NASCIMENTO</th>\n",
              "      <th>TP_SEXO</th>\n",
              "      <th>TP_ESTADO_CIVIL</th>\n",
              "      <th>CD_CIDADE</th>\n",
              "      <th>IDADE</th>\n",
              "    </tr>\n",
              "  </thead>\n",
              "  <tbody>\n",
              "    <tr>\n",
              "      <th>0</th>\n",
              "      <td>3</td>\n",
              "      <td>2008-03-31 02:00:00</td>\n",
              "      <td>M</td>\n",
              "      <td>C</td>\n",
              "      <td>22651</td>\n",
              "      <td>14</td>\n",
              "    </tr>\n",
              "    <tr>\n",
              "      <th>1</th>\n",
              "      <td>1071</td>\n",
              "      <td>1954-05-10 02:00:00</td>\n",
              "      <td>F</td>\n",
              "      <td>C</td>\n",
              "      <td>22571</td>\n",
              "      <td>68</td>\n",
              "    </tr>\n",
              "    <tr>\n",
              "      <th>2</th>\n",
              "      <td>1520</td>\n",
              "      <td>1955-04-01 02:00:00</td>\n",
              "      <td>F</td>\n",
              "      <td>C</td>\n",
              "      <td>22651</td>\n",
              "      <td>67</td>\n",
              "    </tr>\n",
              "    <tr>\n",
              "      <th>3</th>\n",
              "      <td>3067</td>\n",
              "      <td>1938-02-05 02:00:00</td>\n",
              "      <td>F</td>\n",
              "      <td>S</td>\n",
              "      <td>22651</td>\n",
              "      <td>84</td>\n",
              "    </tr>\n",
              "    <tr>\n",
              "      <th>4</th>\n",
              "      <td>3935</td>\n",
              "      <td>1951-12-01 02:00:00</td>\n",
              "      <td>F</td>\n",
              "      <td>C</td>\n",
              "      <td>22651</td>\n",
              "      <td>71</td>\n",
              "    </tr>\n",
              "  </tbody>\n",
              "</table>\n",
              "</div>\n",
              "      <button class=\"colab-df-convert\" onclick=\"convertToInteractive('df-80692da9-50ca-44f1-978a-217849b85384')\"\n",
              "              title=\"Convert this dataframe to an interactive table.\"\n",
              "              style=\"display:none;\">\n",
              "        \n",
              "  <svg xmlns=\"http://www.w3.org/2000/svg\" height=\"24px\"viewBox=\"0 0 24 24\"\n",
              "       width=\"24px\">\n",
              "    <path d=\"M0 0h24v24H0V0z\" fill=\"none\"/>\n",
              "    <path d=\"M18.56 5.44l.94 2.06.94-2.06 2.06-.94-2.06-.94-.94-2.06-.94 2.06-2.06.94zm-11 1L8.5 8.5l.94-2.06 2.06-.94-2.06-.94L8.5 2.5l-.94 2.06-2.06.94zm10 10l.94 2.06.94-2.06 2.06-.94-2.06-.94-.94-2.06-.94 2.06-2.06.94z\"/><path d=\"M17.41 7.96l-1.37-1.37c-.4-.4-.92-.59-1.43-.59-.52 0-1.04.2-1.43.59L10.3 9.45l-7.72 7.72c-.78.78-.78 2.05 0 2.83L4 21.41c.39.39.9.59 1.41.59.51 0 1.02-.2 1.41-.59l7.78-7.78 2.81-2.81c.8-.78.8-2.07 0-2.86zM5.41 20L4 18.59l7.72-7.72 1.47 1.35L5.41 20z\"/>\n",
              "  </svg>\n",
              "      </button>\n",
              "      \n",
              "  <style>\n",
              "    .colab-df-container {\n",
              "      display:flex;\n",
              "      flex-wrap:wrap;\n",
              "      gap: 12px;\n",
              "    }\n",
              "\n",
              "    .colab-df-convert {\n",
              "      background-color: #E8F0FE;\n",
              "      border: none;\n",
              "      border-radius: 50%;\n",
              "      cursor: pointer;\n",
              "      display: none;\n",
              "      fill: #1967D2;\n",
              "      height: 32px;\n",
              "      padding: 0 0 0 0;\n",
              "      width: 32px;\n",
              "    }\n",
              "\n",
              "    .colab-df-convert:hover {\n",
              "      background-color: #E2EBFA;\n",
              "      box-shadow: 0px 1px 2px rgba(60, 64, 67, 0.3), 0px 1px 3px 1px rgba(60, 64, 67, 0.15);\n",
              "      fill: #174EA6;\n",
              "    }\n",
              "\n",
              "    [theme=dark] .colab-df-convert {\n",
              "      background-color: #3B4455;\n",
              "      fill: #D2E3FC;\n",
              "    }\n",
              "\n",
              "    [theme=dark] .colab-df-convert:hover {\n",
              "      background-color: #434B5C;\n",
              "      box-shadow: 0px 1px 3px 1px rgba(0, 0, 0, 0.15);\n",
              "      filter: drop-shadow(0px 1px 2px rgba(0, 0, 0, 0.3));\n",
              "      fill: #FFFFFF;\n",
              "    }\n",
              "  </style>\n",
              "\n",
              "      <script>\n",
              "        const buttonEl =\n",
              "          document.querySelector('#df-80692da9-50ca-44f1-978a-217849b85384 button.colab-df-convert');\n",
              "        buttonEl.style.display =\n",
              "          google.colab.kernel.accessAllowed ? 'block' : 'none';\n",
              "\n",
              "        async function convertToInteractive(key) {\n",
              "          const element = document.querySelector('#df-80692da9-50ca-44f1-978a-217849b85384');\n",
              "          const dataTable =\n",
              "            await google.colab.kernel.invokeFunction('convertToInteractive',\n",
              "                                                     [key], {});\n",
              "          if (!dataTable) return;\n",
              "\n",
              "          const docLinkHtml = 'Like what you see? Visit the ' +\n",
              "            '<a target=\"_blank\" href=https://colab.research.google.com/notebooks/data_table.ipynb>data table notebook</a>'\n",
              "            + ' to learn more about interactive tables.';\n",
              "          element.innerHTML = '';\n",
              "          dataTable['output_type'] = 'display_data';\n",
              "          await google.colab.output.renderOutput(dataTable, element);\n",
              "          const docLink = document.createElement('div');\n",
              "          docLink.innerHTML = docLinkHtml;\n",
              "          element.appendChild(docLink);\n",
              "        }\n",
              "      </script>\n",
              "    </div>\n",
              "  </div>\n",
              "  "
            ]
          },
          "metadata": {},
          "execution_count": 43
        }
      ]
    },
    {
      "cell_type": "code",
      "source": [
        "cria_planilha(df_pacientes, 'pacientes.csv', dataset_final)"
      ],
      "metadata": {
        "id": "LhWEQ96P_jxv"
      },
      "execution_count": null,
      "outputs": []
    },
    {
      "cell_type": "markdown",
      "source": [
        "##Prescrição"
      ],
      "metadata": {
        "id": "8AjX2Gt7s5ur"
      }
    },
    {
      "cell_type": "code",
      "source": [
        "df_prescricao = le_planilha('Prescricao.csv',separador=\";\", encode=\"latin1\")"
      ],
      "metadata": {
        "colab": {
          "base_uri": "https://localhost:8080/"
        },
        "id": "U3BXfrGRs1H5",
        "outputId": "29ff8a37-4196-43f2-ccd8-d87b196aa7fc"
      },
      "execution_count": null,
      "outputs": [
        {
          "output_type": "stream",
          "name": "stderr",
          "text": [
            "<ipython-input-45-30119b8d6ebe>:1: DtypeWarning: Columns (29,31,33,35,36,37,39,41) have mixed types.Specify dtype option on import or set low_memory=False.\n",
            "  df_prescricao = le_planilha('Prescricao.csv',separador=\";\", encode=\"latin1\")\n"
          ]
        }
      ]
    },
    {
      "cell_type": "code",
      "source": [
        "df_prescricao.head()"
      ],
      "metadata": {
        "colab": {
          "base_uri": "https://localhost:8080/",
          "height": 490
        },
        "id": "o5HgpbYn8rCX",
        "outputId": "b5c596be-25c7-4805-b760-2c403c2d4ea4"
      },
      "execution_count": null,
      "outputs": [
        {
          "output_type": "execute_result",
          "data": {
            "text/plain": [
              "   ID_PRESCRICAO  CODIGO_ATENDIMENTO  CODIGO_PACIENTE  \\\n",
              "0       12012591             4428389          3177869   \n",
              "1       12012591             4428389          3177869   \n",
              "2       12012591             4428389          3177869   \n",
              "3        9314748             3443144          3224655   \n",
              "4        9314583             3442871           718773   \n",
              "\n",
              "                         NOME_PACIENTE   DATA_DE_REFERENCIA  \\\n",
              "0              ROSELI JANCZUR VERONEZI  22/11/2022 00:00:00   \n",
              "1              ROSELI JANCZUR VERONEZI  22/11/2022 00:00:00   \n",
              "2              ROSELI JANCZUR VERONEZI  22/11/2022 00:00:00   \n",
              "3  FRANCISCO AGNALDO DANNI COSTA PINTO  03/01/2022 00:00:00   \n",
              "4                 SAMUEL KAZUO CANCIAN  03/01/2022 00:00:00   \n",
              "\n",
              "  TIPO_DE_PRESCRICAO DESCRICAO_DO_TIPO_PRESCRICAO  PRESTADOR_DA_PRESCRICAO  \\\n",
              "0                  M                       Medico                    29647   \n",
              "1                  M                       Medico                    29647   \n",
              "2                  M                       Medico                    29647   \n",
              "3                  M                       Medico                    29109   \n",
              "4                  M                       Medico                    29109   \n",
              "\n",
              "                   NOME_DO_PRESTADOR TIPO_DO_ITEM  ... CD_PRO_FAT_EXA_LAB  \\\n",
              "0            CAROLINA PINTO NOGUEIRA         Item  ...         40304906.0   \n",
              "1            CAROLINA PINTO NOGUEIRA         Item  ...                NaN   \n",
              "2            CAROLINA PINTO NOGUEIRA         Item  ...                NaN   \n",
              "3  HEITOR ANDREI MIRANDA DE CARVALHO         Item  ...         40302580.0   \n",
              "4  HEITOR ANDREI MIRANDA DE CARVALHO         Item  ...                NaN   \n",
              "\n",
              "                 DS_PRO_FAT_EXA_LAB CD_TIPO_DIETA DS_TIPO_DIETA  \\\n",
              "0  DIMERO D - PESQUISA E/OU DOSAGEM           NaN           NaN   \n",
              "1                               NaN           NaN           NaN   \n",
              "2                               NaN           NaN           NaN   \n",
              "3      UREIA PESQUISA E OU DOSAGEM            NaN           NaN   \n",
              "4                               NaN           NaN           NaN   \n",
              "\n",
              "   CD_SANGUE_DERIVADOS DS_SANGUE_DERIVADOS CD_PRO_FAT_SANGUE  \\\n",
              "0                  NaN                 NaN               NaN   \n",
              "1                  NaN                 NaN               NaN   \n",
              "2                  NaN                 NaN               NaN   \n",
              "3                  NaN                 NaN               NaN   \n",
              "4                  NaN                 NaN               NaN   \n",
              "\n",
              "  DS_PRO_FAT_SANGUE  CD_PRODUTO                  DS_PRODUTO  \n",
              "0               NaN         NaN                         NaN  \n",
              "1               NaN         NaN                         NaN  \n",
              "2               NaN         NaN                         NaN  \n",
              "3               NaN         NaN                         NaN  \n",
              "4               NaN   2012038.0  DIPIFARMA 500MG/ML AMP 2ML  \n",
              "\n",
              "[5 rows x 44 columns]"
            ],
            "text/html": [
              "\n",
              "  <div id=\"df-28b3819c-ce21-486e-8410-8de91f1432f9\">\n",
              "    <div class=\"colab-df-container\">\n",
              "      <div>\n",
              "<style scoped>\n",
              "    .dataframe tbody tr th:only-of-type {\n",
              "        vertical-align: middle;\n",
              "    }\n",
              "\n",
              "    .dataframe tbody tr th {\n",
              "        vertical-align: top;\n",
              "    }\n",
              "\n",
              "    .dataframe thead th {\n",
              "        text-align: right;\n",
              "    }\n",
              "</style>\n",
              "<table border=\"1\" class=\"dataframe\">\n",
              "  <thead>\n",
              "    <tr style=\"text-align: right;\">\n",
              "      <th></th>\n",
              "      <th>ID_PRESCRICAO</th>\n",
              "      <th>CODIGO_ATENDIMENTO</th>\n",
              "      <th>CODIGO_PACIENTE</th>\n",
              "      <th>NOME_PACIENTE</th>\n",
              "      <th>DATA_DE_REFERENCIA</th>\n",
              "      <th>TIPO_DE_PRESCRICAO</th>\n",
              "      <th>DESCRICAO_DO_TIPO_PRESCRICAO</th>\n",
              "      <th>PRESTADOR_DA_PRESCRICAO</th>\n",
              "      <th>NOME_DO_PRESTADOR</th>\n",
              "      <th>TIPO_DO_ITEM</th>\n",
              "      <th>...</th>\n",
              "      <th>CD_PRO_FAT_EXA_LAB</th>\n",
              "      <th>DS_PRO_FAT_EXA_LAB</th>\n",
              "      <th>CD_TIPO_DIETA</th>\n",
              "      <th>DS_TIPO_DIETA</th>\n",
              "      <th>CD_SANGUE_DERIVADOS</th>\n",
              "      <th>DS_SANGUE_DERIVADOS</th>\n",
              "      <th>CD_PRO_FAT_SANGUE</th>\n",
              "      <th>DS_PRO_FAT_SANGUE</th>\n",
              "      <th>CD_PRODUTO</th>\n",
              "      <th>DS_PRODUTO</th>\n",
              "    </tr>\n",
              "  </thead>\n",
              "  <tbody>\n",
              "    <tr>\n",
              "      <th>0</th>\n",
              "      <td>12012591</td>\n",
              "      <td>4428389</td>\n",
              "      <td>3177869</td>\n",
              "      <td>ROSELI JANCZUR VERONEZI</td>\n",
              "      <td>22/11/2022 00:00:00</td>\n",
              "      <td>M</td>\n",
              "      <td>Medico</td>\n",
              "      <td>29647</td>\n",
              "      <td>CAROLINA PINTO NOGUEIRA</td>\n",
              "      <td>Item</td>\n",
              "      <td>...</td>\n",
              "      <td>40304906.0</td>\n",
              "      <td>DIMERO D - PESQUISA E/OU DOSAGEM</td>\n",
              "      <td>NaN</td>\n",
              "      <td>NaN</td>\n",
              "      <td>NaN</td>\n",
              "      <td>NaN</td>\n",
              "      <td>NaN</td>\n",
              "      <td>NaN</td>\n",
              "      <td>NaN</td>\n",
              "      <td>NaN</td>\n",
              "    </tr>\n",
              "    <tr>\n",
              "      <th>1</th>\n",
              "      <td>12012591</td>\n",
              "      <td>4428389</td>\n",
              "      <td>3177869</td>\n",
              "      <td>ROSELI JANCZUR VERONEZI</td>\n",
              "      <td>22/11/2022 00:00:00</td>\n",
              "      <td>M</td>\n",
              "      <td>Medico</td>\n",
              "      <td>29647</td>\n",
              "      <td>CAROLINA PINTO NOGUEIRA</td>\n",
              "      <td>Item</td>\n",
              "      <td>...</td>\n",
              "      <td>NaN</td>\n",
              "      <td>NaN</td>\n",
              "      <td>NaN</td>\n",
              "      <td>NaN</td>\n",
              "      <td>NaN</td>\n",
              "      <td>NaN</td>\n",
              "      <td>NaN</td>\n",
              "      <td>NaN</td>\n",
              "      <td>NaN</td>\n",
              "      <td>NaN</td>\n",
              "    </tr>\n",
              "    <tr>\n",
              "      <th>2</th>\n",
              "      <td>12012591</td>\n",
              "      <td>4428389</td>\n",
              "      <td>3177869</td>\n",
              "      <td>ROSELI JANCZUR VERONEZI</td>\n",
              "      <td>22/11/2022 00:00:00</td>\n",
              "      <td>M</td>\n",
              "      <td>Medico</td>\n",
              "      <td>29647</td>\n",
              "      <td>CAROLINA PINTO NOGUEIRA</td>\n",
              "      <td>Item</td>\n",
              "      <td>...</td>\n",
              "      <td>NaN</td>\n",
              "      <td>NaN</td>\n",
              "      <td>NaN</td>\n",
              "      <td>NaN</td>\n",
              "      <td>NaN</td>\n",
              "      <td>NaN</td>\n",
              "      <td>NaN</td>\n",
              "      <td>NaN</td>\n",
              "      <td>NaN</td>\n",
              "      <td>NaN</td>\n",
              "    </tr>\n",
              "    <tr>\n",
              "      <th>3</th>\n",
              "      <td>9314748</td>\n",
              "      <td>3443144</td>\n",
              "      <td>3224655</td>\n",
              "      <td>FRANCISCO AGNALDO DANNI COSTA PINTO</td>\n",
              "      <td>03/01/2022 00:00:00</td>\n",
              "      <td>M</td>\n",
              "      <td>Medico</td>\n",
              "      <td>29109</td>\n",
              "      <td>HEITOR ANDREI MIRANDA DE CARVALHO</td>\n",
              "      <td>Item</td>\n",
              "      <td>...</td>\n",
              "      <td>40302580.0</td>\n",
              "      <td>UREIA PESQUISA E OU DOSAGEM</td>\n",
              "      <td>NaN</td>\n",
              "      <td>NaN</td>\n",
              "      <td>NaN</td>\n",
              "      <td>NaN</td>\n",
              "      <td>NaN</td>\n",
              "      <td>NaN</td>\n",
              "      <td>NaN</td>\n",
              "      <td>NaN</td>\n",
              "    </tr>\n",
              "    <tr>\n",
              "      <th>4</th>\n",
              "      <td>9314583</td>\n",
              "      <td>3442871</td>\n",
              "      <td>718773</td>\n",
              "      <td>SAMUEL KAZUO CANCIAN</td>\n",
              "      <td>03/01/2022 00:00:00</td>\n",
              "      <td>M</td>\n",
              "      <td>Medico</td>\n",
              "      <td>29109</td>\n",
              "      <td>HEITOR ANDREI MIRANDA DE CARVALHO</td>\n",
              "      <td>Item</td>\n",
              "      <td>...</td>\n",
              "      <td>NaN</td>\n",
              "      <td>NaN</td>\n",
              "      <td>NaN</td>\n",
              "      <td>NaN</td>\n",
              "      <td>NaN</td>\n",
              "      <td>NaN</td>\n",
              "      <td>NaN</td>\n",
              "      <td>NaN</td>\n",
              "      <td>2012038.0</td>\n",
              "      <td>DIPIFARMA 500MG/ML AMP 2ML</td>\n",
              "    </tr>\n",
              "  </tbody>\n",
              "</table>\n",
              "<p>5 rows × 44 columns</p>\n",
              "</div>\n",
              "      <button class=\"colab-df-convert\" onclick=\"convertToInteractive('df-28b3819c-ce21-486e-8410-8de91f1432f9')\"\n",
              "              title=\"Convert this dataframe to an interactive table.\"\n",
              "              style=\"display:none;\">\n",
              "        \n",
              "  <svg xmlns=\"http://www.w3.org/2000/svg\" height=\"24px\"viewBox=\"0 0 24 24\"\n",
              "       width=\"24px\">\n",
              "    <path d=\"M0 0h24v24H0V0z\" fill=\"none\"/>\n",
              "    <path d=\"M18.56 5.44l.94 2.06.94-2.06 2.06-.94-2.06-.94-.94-2.06-.94 2.06-2.06.94zm-11 1L8.5 8.5l.94-2.06 2.06-.94-2.06-.94L8.5 2.5l-.94 2.06-2.06.94zm10 10l.94 2.06.94-2.06 2.06-.94-2.06-.94-.94-2.06-.94 2.06-2.06.94z\"/><path d=\"M17.41 7.96l-1.37-1.37c-.4-.4-.92-.59-1.43-.59-.52 0-1.04.2-1.43.59L10.3 9.45l-7.72 7.72c-.78.78-.78 2.05 0 2.83L4 21.41c.39.39.9.59 1.41.59.51 0 1.02-.2 1.41-.59l7.78-7.78 2.81-2.81c.8-.78.8-2.07 0-2.86zM5.41 20L4 18.59l7.72-7.72 1.47 1.35L5.41 20z\"/>\n",
              "  </svg>\n",
              "      </button>\n",
              "      \n",
              "  <style>\n",
              "    .colab-df-container {\n",
              "      display:flex;\n",
              "      flex-wrap:wrap;\n",
              "      gap: 12px;\n",
              "    }\n",
              "\n",
              "    .colab-df-convert {\n",
              "      background-color: #E8F0FE;\n",
              "      border: none;\n",
              "      border-radius: 50%;\n",
              "      cursor: pointer;\n",
              "      display: none;\n",
              "      fill: #1967D2;\n",
              "      height: 32px;\n",
              "      padding: 0 0 0 0;\n",
              "      width: 32px;\n",
              "    }\n",
              "\n",
              "    .colab-df-convert:hover {\n",
              "      background-color: #E2EBFA;\n",
              "      box-shadow: 0px 1px 2px rgba(60, 64, 67, 0.3), 0px 1px 3px 1px rgba(60, 64, 67, 0.15);\n",
              "      fill: #174EA6;\n",
              "    }\n",
              "\n",
              "    [theme=dark] .colab-df-convert {\n",
              "      background-color: #3B4455;\n",
              "      fill: #D2E3FC;\n",
              "    }\n",
              "\n",
              "    [theme=dark] .colab-df-convert:hover {\n",
              "      background-color: #434B5C;\n",
              "      box-shadow: 0px 1px 3px 1px rgba(0, 0, 0, 0.15);\n",
              "      filter: drop-shadow(0px 1px 2px rgba(0, 0, 0, 0.3));\n",
              "      fill: #FFFFFF;\n",
              "    }\n",
              "  </style>\n",
              "\n",
              "      <script>\n",
              "        const buttonEl =\n",
              "          document.querySelector('#df-28b3819c-ce21-486e-8410-8de91f1432f9 button.colab-df-convert');\n",
              "        buttonEl.style.display =\n",
              "          google.colab.kernel.accessAllowed ? 'block' : 'none';\n",
              "\n",
              "        async function convertToInteractive(key) {\n",
              "          const element = document.querySelector('#df-28b3819c-ce21-486e-8410-8de91f1432f9');\n",
              "          const dataTable =\n",
              "            await google.colab.kernel.invokeFunction('convertToInteractive',\n",
              "                                                     [key], {});\n",
              "          if (!dataTable) return;\n",
              "\n",
              "          const docLinkHtml = 'Like what you see? Visit the ' +\n",
              "            '<a target=\"_blank\" href=https://colab.research.google.com/notebooks/data_table.ipynb>data table notebook</a>'\n",
              "            + ' to learn more about interactive tables.';\n",
              "          element.innerHTML = '';\n",
              "          dataTable['output_type'] = 'display_data';\n",
              "          await google.colab.output.renderOutput(dataTable, element);\n",
              "          const docLink = document.createElement('div');\n",
              "          docLink.innerHTML = docLinkHtml;\n",
              "          element.appendChild(docLink);\n",
              "        }\n",
              "      </script>\n",
              "    </div>\n",
              "  </div>\n",
              "  "
            ]
          },
          "metadata": {},
          "execution_count": 47
        }
      ]
    },
    {
      "cell_type": "code",
      "source": [
        "df_prescricao.info()"
      ],
      "metadata": {
        "colab": {
          "base_uri": "https://localhost:8080/"
        },
        "id": "gAAu7PYNtN0R",
        "outputId": "da2105cf-3802-4426-98af-cd20db3f9cea"
      },
      "execution_count": null,
      "outputs": [
        {
          "output_type": "stream",
          "name": "stdout",
          "text": [
            "<class 'pandas.core.frame.DataFrame'>\n",
            "RangeIndex: 316815 entries, 0 to 316814\n",
            "Data columns (total 44 columns):\n",
            " #   Column                        Non-Null Count   Dtype  \n",
            "---  ------                        --------------   -----  \n",
            " 0   ID_PRESCRICAO                 316815 non-null  int64  \n",
            " 1   CODIGO_ATENDIMENTO            316815 non-null  int64  \n",
            " 2   CODIGO_PACIENTE               316815 non-null  int64  \n",
            " 3   NOME_PACIENTE                 316815 non-null  object \n",
            " 4   DATA_DE_REFERENCIA            316815 non-null  object \n",
            " 5   TIPO_DE_PRESCRICAO            316815 non-null  object \n",
            " 6   DESCRICAO_DO_TIPO_PRESCRICAO  316815 non-null  object \n",
            " 7   PRESTADOR_DA_PRESCRICAO       316815 non-null  int64  \n",
            " 8   NOME_DO_PRESTADOR             316815 non-null  object \n",
            " 9   TIPO_DO_ITEM                  316815 non-null  object \n",
            " 10  DATA_HORA_PRESCRICAO          316815 non-null  object \n",
            " 11  ID_ITEM_PRESCRITO             316815 non-null  int64  \n",
            " 12  ESQUEMA                       316815 non-null  object \n",
            " 13  DESCRICAO_DO_ESQUEMA          316815 non-null  object \n",
            " 14  ITEM_DE_PRESCRICAO            316815 non-null  int64  \n",
            " 15  NOME_ITEM_PRESCRICAO          316815 non-null  object \n",
            " 16  FORMA_APLICACAO               53933 non-null   object \n",
            " 17  NOME_FORMA_APLICACAO          53933 non-null   object \n",
            " 18  FREQUENCIA                    292162 non-null  float64\n",
            " 19  DESCRICAO_DA_FREQUENCIA       292162 non-null  object \n",
            " 20  QUANTIDADE_PRESCRITA          57919 non-null   float64\n",
            " 21  SE_NECESSARIO                 316815 non-null  object \n",
            " 22  UNIDADE_DO_PRODUTO            54937 non-null   float64\n",
            " 23  DESCRICAO_UNIDADE_DO_PRODUTO  54937 non-null   object \n",
            " 24  DATA_HORA_ITEM                297490 non-null  object \n",
            " 25  DIAS_PARA_APLICACAO           9344 non-null    float64\n",
            " 26  CODIGO_PROCEDIMENTO           8581 non-null    float64\n",
            " 27  DESCRICAO_PROCEDIMENTO        8581 non-null    object \n",
            " 28  CD_DIAG_IMAGEM                18052 non-null   float64\n",
            " 29  DS_DIAG_IMAGEM                18052 non-null   object \n",
            " 30  CD_PRO_FAT_EXA_RX             18052 non-null   float64\n",
            " 31  DS_PRO_FAT_EXA_RX             18052 non-null   object \n",
            " 32  CD_SADT                       116316 non-null  float64\n",
            " 33  NM_SADT                       116316 non-null  object \n",
            " 34  CD_PRO_FAT_EXA_LAB            116316 non-null  float64\n",
            " 35  DS_PRO_FAT_EXA_LAB            116316 non-null  object \n",
            " 36  CD_TIPO_DIETA                 5712 non-null    object \n",
            " 37  DS_TIPO_DIETA                 5712 non-null    object \n",
            " 38  CD_SANGUE_DERIVADOS           97 non-null      float64\n",
            " 39  DS_SANGUE_DERIVADOS           97 non-null      object \n",
            " 40  CD_PRO_FAT_SANGUE             97 non-null      float64\n",
            " 41  DS_PRO_FAT_SANGUE             97 non-null      object \n",
            " 42  CD_PRODUTO                    54952 non-null   float64\n",
            " 43  DS_PRODUTO                    54952 non-null   object \n",
            "dtypes: float64(12), int64(6), object(26)\n",
            "memory usage: 106.4+ MB\n"
          ]
        }
      ]
    },
    {
      "cell_type": "code",
      "source": [
        "colunas_prescricao = ['ID_ITEM_PRESCRITO','ESQUEMA','DESCRICAO_DO_ESQUEMA','ITEM_DE_PRESCRICAO','NOME_ITEM_PRESCRICAO','FORMA_APLICACAO','NOME_FORMA_APLICACAO','FREQUENCIA','DESCRICAO_DA_FREQUENCIA','QUANTIDADE_PRESCRITA','SE_NECESSARIO','UNIDADE_DO_PRODUTO','DESCRICAO_UNIDADE_DO_PRODUTO','DATA_HORA_ITEM','DIAS_PARA_APLICACAO','CODIGO_PROCEDIMENTO','DESCRICAO_PROCEDIMENTO','CD_DIAG_IMAGEM','DS_DIAG_IMAGEM','CD_PRO_FAT_EXA_RX','DS_PRO_FAT_EXA_RX','CD_SADT','NM_SADT','CD_PRO_FAT_EXA_LAB','DS_PRO_FAT_EXA_LAB','CD_TIPO_DIETA','DS_TIPO_DIETA','CD_SANGUE_DERIVADOS','DS_SANGUE_DERIVADOS','CD_PRO_FAT_SANGUE','DS_PRO_FAT_SANGUE','CD_PRODUTO','DS_PRODUTO']"
      ],
      "metadata": {
        "id": "Ei2bVseFP_oB"
      },
      "execution_count": null,
      "outputs": []
    },
    {
      "cell_type": "code",
      "source": [
        "print('Dietas Nulas:',  df_prescricao.shape[0]-df_prescricao['CD_TIPO_DIETA'].isnull().sum())"
      ],
      "metadata": {
        "colab": {
          "base_uri": "https://localhost:8080/"
        },
        "id": "r-JrgjAcJHK1",
        "outputId": "0b2c8ef3-1a30-47d5-9316-494b5f719c2c"
      },
      "execution_count": null,
      "outputs": [
        {
          "output_type": "stream",
          "name": "stdout",
          "text": [
            "Dietas Nulas: 5712\n"
          ]
        }
      ]
    },
    {
      "cell_type": "code",
      "source": [
        "df_dietas = df_prescricao[df_prescricao['CD_TIPO_DIETA'].isnull() == False]"
      ],
      "metadata": {
        "id": "VOfM6YO4KAqz"
      },
      "execution_count": null,
      "outputs": []
    },
    {
      "cell_type": "code",
      "source": [
        "df_dietas['CD_TIPO_DIETA'].unique()"
      ],
      "metadata": {
        "colab": {
          "base_uri": "https://localhost:8080/"
        },
        "id": "TKA_um-TKJoH",
        "outputId": "2784745b-73ca-402b-fc9d-087e0de7ff15"
      },
      "execution_count": null,
      "outputs": [
        {
          "output_type": "execute_result",
          "data": {
            "text/plain": [
              "array(['G001', 'G091', 'B001', 'JEJUM', 'G87', 'B003', 'LIQ069', 'G003',\n",
              "       'LEV001', 'B004', 'B097', 'G009', 'G085', 'SNE071', 'LIQ086',\n",
              "       'A001', 'LIQ084', 'SNE033', 'SNE81', 'LEV004', 'P116', 'P001',\n",
              "       'G098', 'G094', 'G086', 'L001', 'A021', 'B104', 'A035', 'G099',\n",
              "       'H003', 'B096', 'LEV003', 'A030', 'G005', 'NP030', 'L003', 'G071',\n",
              "       'LEV031', 'P106', 'SNE058', 'A012', 'LEV005', 'A018', 'B106',\n",
              "       'LIQ002', 'A019', 'A003', 'NP012', 'A011', 'G088', 'L005',\n",
              "       'SNE057', 'P004', 'B092', 'A020', 'P110', 'A032', 'G097', 'L004',\n",
              "       'B074', 'LIQ085', 'A008', 'LEV011', 'SNE059', 'B009', 'A042',\n",
              "       'LEV027', 'B098', 'B007', 'G013', 'A036', 'P002', 'G007', 'SNE077',\n",
              "       'B091', 'P014', 'B094', 'G092', 'A027', 'B002', 'P003', 'B103',\n",
              "       'LEV009', 'A002', 'B099', 'LEV002', 'P005', 'B005', 'A031', 'G014',\n",
              "       'SNE070', 'G089', 'SNE098', 'G100', 'P113', 'A007', 'A015', 'L110',\n",
              "       'A014', 'LEV012', 'L106', 'LEV024', 'B008', 'SNE114', 'LEV018',\n",
              "       'L107'], dtype=object)"
            ]
          },
          "metadata": {},
          "execution_count": 54
        }
      ]
    },
    {
      "cell_type": "code",
      "source": [
        "colunas_dieta = ['ID_PRESCRICAO',\t'CODIGO_ATENDIMENTO',\t'CODIGO_PACIENTE',\t'NOME_PACIENTE', 'DATA_DE_REFERENCIA',\t'TIPO_DE_PRESCRICAO',\t'DESCRICAO_DO_TIPO_PRESCRICAO',\t'PRESTADOR_DA_PRESCRICAO',\t'NOME_DO_PRESTADOR',\t'TIPO_DO_ITEM',\t'CD_TIPO_DIETA', 'DS_TIPO_DIETA']"
      ],
      "metadata": {
        "id": "P9_Fxj49LRp6"
      },
      "execution_count": null,
      "outputs": []
    },
    {
      "cell_type": "code",
      "source": [
        "cria_planilha(df_dietas[colunas_dieta], 'dietas_prescricao.csv', dataset_final)"
      ],
      "metadata": {
        "id": "WxSEKrI_Lzhv"
      },
      "execution_count": null,
      "outputs": []
    },
    {
      "cell_type": "code",
      "source": [
        "df_exames = df_prescricao[(df_prescricao.CD_PRO_FAT_EXA_LAB.isnull() == False) | (df_prescricao.CD_PRO_FAT_EXA_RX.isnull() == False)]"
      ],
      "metadata": {
        "id": "SfWg2Z9yMMjr"
      },
      "execution_count": null,
      "outputs": []
    },
    {
      "cell_type": "code",
      "source": [
        "df_exames.head(4)"
      ],
      "metadata": {
        "colab": {
          "base_uri": "https://localhost:8080/",
          "height": 424
        },
        "id": "lWO-1oNFMrsT",
        "outputId": "693c8c79-6fb9-4dcf-e63d-8a4d616982eb"
      },
      "execution_count": null,
      "outputs": [
        {
          "output_type": "execute_result",
          "data": {
            "text/plain": [
              "   ID_PRESCRICAO  CODIGO_ATENDIMENTO  CODIGO_PACIENTE  \\\n",
              "0       12012591             4428389          3177869   \n",
              "1       12012591             4428389          3177869   \n",
              "2       12012591             4428389          3177869   \n",
              "3        9314748             3443144          3224655   \n",
              "\n",
              "                         NOME_PACIENTE   DATA_DE_REFERENCIA  \\\n",
              "0              ROSELI JANCZUR VERONEZI  22/11/2022 00:00:00   \n",
              "1              ROSELI JANCZUR VERONEZI  22/11/2022 00:00:00   \n",
              "2              ROSELI JANCZUR VERONEZI  22/11/2022 00:00:00   \n",
              "3  FRANCISCO AGNALDO DANNI COSTA PINTO  03/01/2022 00:00:00   \n",
              "\n",
              "  TIPO_DE_PRESCRICAO DESCRICAO_DO_TIPO_PRESCRICAO  PRESTADOR_DA_PRESCRICAO  \\\n",
              "0                  M                       Medico                    29647   \n",
              "1                  M                       Medico                    29647   \n",
              "2                  M                       Medico                    29647   \n",
              "3                  M                       Medico                    29109   \n",
              "\n",
              "                   NOME_DO_PRESTADOR TIPO_DO_ITEM  ... CD_PRO_FAT_EXA_LAB  \\\n",
              "0            CAROLINA PINTO NOGUEIRA         Item  ...         40304906.0   \n",
              "1            CAROLINA PINTO NOGUEIRA         Item  ...                NaN   \n",
              "2            CAROLINA PINTO NOGUEIRA         Item  ...                NaN   \n",
              "3  HEITOR ANDREI MIRANDA DE CARVALHO         Item  ...         40302580.0   \n",
              "\n",
              "                 DS_PRO_FAT_EXA_LAB CD_TIPO_DIETA DS_TIPO_DIETA  \\\n",
              "0  DIMERO D - PESQUISA E/OU DOSAGEM           NaN           NaN   \n",
              "1                               NaN           NaN           NaN   \n",
              "2                               NaN           NaN           NaN   \n",
              "3      UREIA PESQUISA E OU DOSAGEM            NaN           NaN   \n",
              "\n",
              "   CD_SANGUE_DERIVADOS DS_SANGUE_DERIVADOS CD_PRO_FAT_SANGUE  \\\n",
              "0                  NaN                 NaN               NaN   \n",
              "1                  NaN                 NaN               NaN   \n",
              "2                  NaN                 NaN               NaN   \n",
              "3                  NaN                 NaN               NaN   \n",
              "\n",
              "  DS_PRO_FAT_SANGUE  CD_PRODUTO DS_PRODUTO  \n",
              "0               NaN         NaN        NaN  \n",
              "1               NaN         NaN        NaN  \n",
              "2               NaN         NaN        NaN  \n",
              "3               NaN         NaN        NaN  \n",
              "\n",
              "[4 rows x 44 columns]"
            ],
            "text/html": [
              "\n",
              "  <div id=\"df-8d09ed03-fddb-49c6-90d2-babfc863b954\">\n",
              "    <div class=\"colab-df-container\">\n",
              "      <div>\n",
              "<style scoped>\n",
              "    .dataframe tbody tr th:only-of-type {\n",
              "        vertical-align: middle;\n",
              "    }\n",
              "\n",
              "    .dataframe tbody tr th {\n",
              "        vertical-align: top;\n",
              "    }\n",
              "\n",
              "    .dataframe thead th {\n",
              "        text-align: right;\n",
              "    }\n",
              "</style>\n",
              "<table border=\"1\" class=\"dataframe\">\n",
              "  <thead>\n",
              "    <tr style=\"text-align: right;\">\n",
              "      <th></th>\n",
              "      <th>ID_PRESCRICAO</th>\n",
              "      <th>CODIGO_ATENDIMENTO</th>\n",
              "      <th>CODIGO_PACIENTE</th>\n",
              "      <th>NOME_PACIENTE</th>\n",
              "      <th>DATA_DE_REFERENCIA</th>\n",
              "      <th>TIPO_DE_PRESCRICAO</th>\n",
              "      <th>DESCRICAO_DO_TIPO_PRESCRICAO</th>\n",
              "      <th>PRESTADOR_DA_PRESCRICAO</th>\n",
              "      <th>NOME_DO_PRESTADOR</th>\n",
              "      <th>TIPO_DO_ITEM</th>\n",
              "      <th>...</th>\n",
              "      <th>CD_PRO_FAT_EXA_LAB</th>\n",
              "      <th>DS_PRO_FAT_EXA_LAB</th>\n",
              "      <th>CD_TIPO_DIETA</th>\n",
              "      <th>DS_TIPO_DIETA</th>\n",
              "      <th>CD_SANGUE_DERIVADOS</th>\n",
              "      <th>DS_SANGUE_DERIVADOS</th>\n",
              "      <th>CD_PRO_FAT_SANGUE</th>\n",
              "      <th>DS_PRO_FAT_SANGUE</th>\n",
              "      <th>CD_PRODUTO</th>\n",
              "      <th>DS_PRODUTO</th>\n",
              "    </tr>\n",
              "  </thead>\n",
              "  <tbody>\n",
              "    <tr>\n",
              "      <th>0</th>\n",
              "      <td>12012591</td>\n",
              "      <td>4428389</td>\n",
              "      <td>3177869</td>\n",
              "      <td>ROSELI JANCZUR VERONEZI</td>\n",
              "      <td>22/11/2022 00:00:00</td>\n",
              "      <td>M</td>\n",
              "      <td>Medico</td>\n",
              "      <td>29647</td>\n",
              "      <td>CAROLINA PINTO NOGUEIRA</td>\n",
              "      <td>Item</td>\n",
              "      <td>...</td>\n",
              "      <td>40304906.0</td>\n",
              "      <td>DIMERO D - PESQUISA E/OU DOSAGEM</td>\n",
              "      <td>NaN</td>\n",
              "      <td>NaN</td>\n",
              "      <td>NaN</td>\n",
              "      <td>NaN</td>\n",
              "      <td>NaN</td>\n",
              "      <td>NaN</td>\n",
              "      <td>NaN</td>\n",
              "      <td>NaN</td>\n",
              "    </tr>\n",
              "    <tr>\n",
              "      <th>1</th>\n",
              "      <td>12012591</td>\n",
              "      <td>4428389</td>\n",
              "      <td>3177869</td>\n",
              "      <td>ROSELI JANCZUR VERONEZI</td>\n",
              "      <td>22/11/2022 00:00:00</td>\n",
              "      <td>M</td>\n",
              "      <td>Medico</td>\n",
              "      <td>29647</td>\n",
              "      <td>CAROLINA PINTO NOGUEIRA</td>\n",
              "      <td>Item</td>\n",
              "      <td>...</td>\n",
              "      <td>NaN</td>\n",
              "      <td>NaN</td>\n",
              "      <td>NaN</td>\n",
              "      <td>NaN</td>\n",
              "      <td>NaN</td>\n",
              "      <td>NaN</td>\n",
              "      <td>NaN</td>\n",
              "      <td>NaN</td>\n",
              "      <td>NaN</td>\n",
              "      <td>NaN</td>\n",
              "    </tr>\n",
              "    <tr>\n",
              "      <th>2</th>\n",
              "      <td>12012591</td>\n",
              "      <td>4428389</td>\n",
              "      <td>3177869</td>\n",
              "      <td>ROSELI JANCZUR VERONEZI</td>\n",
              "      <td>22/11/2022 00:00:00</td>\n",
              "      <td>M</td>\n",
              "      <td>Medico</td>\n",
              "      <td>29647</td>\n",
              "      <td>CAROLINA PINTO NOGUEIRA</td>\n",
              "      <td>Item</td>\n",
              "      <td>...</td>\n",
              "      <td>NaN</td>\n",
              "      <td>NaN</td>\n",
              "      <td>NaN</td>\n",
              "      <td>NaN</td>\n",
              "      <td>NaN</td>\n",
              "      <td>NaN</td>\n",
              "      <td>NaN</td>\n",
              "      <td>NaN</td>\n",
              "      <td>NaN</td>\n",
              "      <td>NaN</td>\n",
              "    </tr>\n",
              "    <tr>\n",
              "      <th>3</th>\n",
              "      <td>9314748</td>\n",
              "      <td>3443144</td>\n",
              "      <td>3224655</td>\n",
              "      <td>FRANCISCO AGNALDO DANNI COSTA PINTO</td>\n",
              "      <td>03/01/2022 00:00:00</td>\n",
              "      <td>M</td>\n",
              "      <td>Medico</td>\n",
              "      <td>29109</td>\n",
              "      <td>HEITOR ANDREI MIRANDA DE CARVALHO</td>\n",
              "      <td>Item</td>\n",
              "      <td>...</td>\n",
              "      <td>40302580.0</td>\n",
              "      <td>UREIA PESQUISA E OU DOSAGEM</td>\n",
              "      <td>NaN</td>\n",
              "      <td>NaN</td>\n",
              "      <td>NaN</td>\n",
              "      <td>NaN</td>\n",
              "      <td>NaN</td>\n",
              "      <td>NaN</td>\n",
              "      <td>NaN</td>\n",
              "      <td>NaN</td>\n",
              "    </tr>\n",
              "  </tbody>\n",
              "</table>\n",
              "<p>4 rows × 44 columns</p>\n",
              "</div>\n",
              "      <button class=\"colab-df-convert\" onclick=\"convertToInteractive('df-8d09ed03-fddb-49c6-90d2-babfc863b954')\"\n",
              "              title=\"Convert this dataframe to an interactive table.\"\n",
              "              style=\"display:none;\">\n",
              "        \n",
              "  <svg xmlns=\"http://www.w3.org/2000/svg\" height=\"24px\"viewBox=\"0 0 24 24\"\n",
              "       width=\"24px\">\n",
              "    <path d=\"M0 0h24v24H0V0z\" fill=\"none\"/>\n",
              "    <path d=\"M18.56 5.44l.94 2.06.94-2.06 2.06-.94-2.06-.94-.94-2.06-.94 2.06-2.06.94zm-11 1L8.5 8.5l.94-2.06 2.06-.94-2.06-.94L8.5 2.5l-.94 2.06-2.06.94zm10 10l.94 2.06.94-2.06 2.06-.94-2.06-.94-.94-2.06-.94 2.06-2.06.94z\"/><path d=\"M17.41 7.96l-1.37-1.37c-.4-.4-.92-.59-1.43-.59-.52 0-1.04.2-1.43.59L10.3 9.45l-7.72 7.72c-.78.78-.78 2.05 0 2.83L4 21.41c.39.39.9.59 1.41.59.51 0 1.02-.2 1.41-.59l7.78-7.78 2.81-2.81c.8-.78.8-2.07 0-2.86zM5.41 20L4 18.59l7.72-7.72 1.47 1.35L5.41 20z\"/>\n",
              "  </svg>\n",
              "      </button>\n",
              "      \n",
              "  <style>\n",
              "    .colab-df-container {\n",
              "      display:flex;\n",
              "      flex-wrap:wrap;\n",
              "      gap: 12px;\n",
              "    }\n",
              "\n",
              "    .colab-df-convert {\n",
              "      background-color: #E8F0FE;\n",
              "      border: none;\n",
              "      border-radius: 50%;\n",
              "      cursor: pointer;\n",
              "      display: none;\n",
              "      fill: #1967D2;\n",
              "      height: 32px;\n",
              "      padding: 0 0 0 0;\n",
              "      width: 32px;\n",
              "    }\n",
              "\n",
              "    .colab-df-convert:hover {\n",
              "      background-color: #E2EBFA;\n",
              "      box-shadow: 0px 1px 2px rgba(60, 64, 67, 0.3), 0px 1px 3px 1px rgba(60, 64, 67, 0.15);\n",
              "      fill: #174EA6;\n",
              "    }\n",
              "\n",
              "    [theme=dark] .colab-df-convert {\n",
              "      background-color: #3B4455;\n",
              "      fill: #D2E3FC;\n",
              "    }\n",
              "\n",
              "    [theme=dark] .colab-df-convert:hover {\n",
              "      background-color: #434B5C;\n",
              "      box-shadow: 0px 1px 3px 1px rgba(0, 0, 0, 0.15);\n",
              "      filter: drop-shadow(0px 1px 2px rgba(0, 0, 0, 0.3));\n",
              "      fill: #FFFFFF;\n",
              "    }\n",
              "  </style>\n",
              "\n",
              "      <script>\n",
              "        const buttonEl =\n",
              "          document.querySelector('#df-8d09ed03-fddb-49c6-90d2-babfc863b954 button.colab-df-convert');\n",
              "        buttonEl.style.display =\n",
              "          google.colab.kernel.accessAllowed ? 'block' : 'none';\n",
              "\n",
              "        async function convertToInteractive(key) {\n",
              "          const element = document.querySelector('#df-8d09ed03-fddb-49c6-90d2-babfc863b954');\n",
              "          const dataTable =\n",
              "            await google.colab.kernel.invokeFunction('convertToInteractive',\n",
              "                                                     [key], {});\n",
              "          if (!dataTable) return;\n",
              "\n",
              "          const docLinkHtml = 'Like what you see? Visit the ' +\n",
              "            '<a target=\"_blank\" href=https://colab.research.google.com/notebooks/data_table.ipynb>data table notebook</a>'\n",
              "            + ' to learn more about interactive tables.';\n",
              "          element.innerHTML = '';\n",
              "          dataTable['output_type'] = 'display_data';\n",
              "          await google.colab.output.renderOutput(dataTable, element);\n",
              "          const docLink = document.createElement('div');\n",
              "          docLink.innerHTML = docLinkHtml;\n",
              "          element.appendChild(docLink);\n",
              "        }\n",
              "      </script>\n",
              "    </div>\n",
              "  </div>\n",
              "  "
            ]
          },
          "metadata": {},
          "execution_count": 58
        }
      ]
    },
    {
      "cell_type": "code",
      "source": [
        "exames_prescricao = ['ID_ITEM_PRESCRITO','ESQUEMA','DESCRICAO_DO_ESQUEMA','ITEM_DE_PRESCRICAO','NOME_ITEM_PRESCRICAO','FREQUENCIA','DESCRICAO_DA_FREQUENCIA','QUANTIDADE_PRESCRITA','DATA_HORA_ITEM','DIAS_PARA_APLICACAO','CODIGO_PROCEDIMENTO','DESCRICAO_PROCEDIMENTO','CD_DIAG_IMAGEM','DS_DIAG_IMAGEM','CD_PRO_FAT_EXA_RX','DS_PRO_FAT_EXA_RX','CD_SADT','NM_SADT','CD_PRO_FAT_EXA_LAB','DS_PRO_FAT_EXA_LAB']\n",
        "df_prescricao_exames = df_exames[exames_prescricao]\n",
        "cria_planilha(df_prescricao_exames, 'exames_prescricao.csv', dataset_final)"
      ],
      "metadata": {
        "id": "o_3dy5IBz6EP"
      },
      "execution_count": null,
      "outputs": []
    },
    {
      "cell_type": "code",
      "source": [
        "df_prescricao[df_prescricao.DS_DIAG_IMAGEM.isnull()==False].shape"
      ],
      "metadata": {
        "colab": {
          "base_uri": "https://localhost:8080/"
        },
        "id": "I022_QVc1KZ0",
        "outputId": "dd031457-98f8-481c-eff9-0aabde28a9a7"
      },
      "execution_count": null,
      "outputs": [
        {
          "output_type": "execute_result",
          "data": {
            "text/plain": [
              "(18052, 44)"
            ]
          },
          "metadata": {},
          "execution_count": 60
        }
      ]
    },
    {
      "cell_type": "code",
      "source": [
        "df_prescricao_produto = df_prescricao[df_prescricao.CD_PRODUTO.isnull()==False]"
      ],
      "metadata": {
        "id": "eaT-YXSTL5XY"
      },
      "execution_count": null,
      "outputs": []
    },
    {
      "cell_type": "code",
      "source": [
        "df_prescricao_produto.head()"
      ],
      "metadata": {
        "colab": {
          "base_uri": "https://localhost:8080/",
          "height": 490
        },
        "id": "NHINDhS4MB4w",
        "outputId": "b997c30f-13dd-47f3-d41b-aec6beeeae9d"
      },
      "execution_count": null,
      "outputs": [
        {
          "output_type": "execute_result",
          "data": {
            "text/plain": [
              "    ID_PRESCRICAO  CODIGO_ATENDIMENTO  CODIGO_PACIENTE  \\\n",
              "4         9314583             3442871           718773   \n",
              "5         9314583             3442871           718773   \n",
              "8         9307297             3440279          1144975   \n",
              "9         9307297             3440279          1144975   \n",
              "16        9313035             3442388           498636   \n",
              "\n",
              "                 NOME_PACIENTE   DATA_DE_REFERENCIA TIPO_DE_PRESCRICAO  \\\n",
              "4         SAMUEL KAZUO CANCIAN  03/01/2022 00:00:00                  M   \n",
              "5         SAMUEL KAZUO CANCIAN  03/01/2022 00:00:00                  M   \n",
              "8   VIVIANE DE LIMA CARPEGIANI  02/01/2022 00:00:00                  M   \n",
              "9   VIVIANE DE LIMA CARPEGIANI  02/01/2022 00:00:00                  M   \n",
              "16            LAERCIO NOGUEIRA  03/01/2022 00:00:00                  M   \n",
              "\n",
              "   DESCRICAO_DO_TIPO_PRESCRICAO  PRESTADOR_DA_PRESCRICAO  \\\n",
              "4                        Medico                    29109   \n",
              "5                        Medico                    29109   \n",
              "8                        Medico                     2506   \n",
              "9                        Medico                     2506   \n",
              "16                       Medico                    28663   \n",
              "\n",
              "                       NOME_DO_PRESTADOR TIPO_DO_ITEM  ... CD_PRO_FAT_EXA_LAB  \\\n",
              "4      HEITOR ANDREI MIRANDA DE CARVALHO         Item  ...                NaN   \n",
              "5      HEITOR ANDREI MIRANDA DE CARVALHO         Item  ...                NaN   \n",
              "8   MICHELI MIKAELI COSTA DA PONTE SOUZA         Item  ...                NaN   \n",
              "9   MICHELI MIKAELI COSTA DA PONTE SOUZA         Item  ...                NaN   \n",
              "16      RAISSA GABRIELLE REIS DOS SANTOS         Item  ...                NaN   \n",
              "\n",
              "    DS_PRO_FAT_EXA_LAB CD_TIPO_DIETA DS_TIPO_DIETA  CD_SANGUE_DERIVADOS  \\\n",
              "4                  NaN           NaN           NaN                  NaN   \n",
              "5                  NaN           NaN           NaN                  NaN   \n",
              "8                  NaN           NaN           NaN                  NaN   \n",
              "9                  NaN           NaN           NaN                  NaN   \n",
              "16                 NaN           NaN           NaN                  NaN   \n",
              "\n",
              "   DS_SANGUE_DERIVADOS CD_PRO_FAT_SANGUE DS_PRO_FAT_SANGUE  CD_PRODUTO  \\\n",
              "4                  NaN               NaN               NaN   2012038.0   \n",
              "5                  NaN               NaN               NaN   2009387.0   \n",
              "8                  NaN               NaN               NaN   2005641.0   \n",
              "9                  NaN               NaN               NaN   2005641.0   \n",
              "16                 NaN               NaN               NaN   2019360.0   \n",
              "\n",
              "                                   DS_PRODUTO  \n",
              "4                  DIPIFARMA 500MG/ML AMP 2ML  \n",
              "5   CLORIDRATO DE ONDANSETRONA 2MG/ML AMP 2ML  \n",
              "8                        CEFTRIAXONA 1G FA IV  \n",
              "9                        CEFTRIAXONA 1G FA IV  \n",
              "16                           PANTOZOL 40MG FA  \n",
              "\n",
              "[5 rows x 44 columns]"
            ],
            "text/html": [
              "\n",
              "  <div id=\"df-165107ee-daf0-4118-9904-12cc44fcf52c\">\n",
              "    <div class=\"colab-df-container\">\n",
              "      <div>\n",
              "<style scoped>\n",
              "    .dataframe tbody tr th:only-of-type {\n",
              "        vertical-align: middle;\n",
              "    }\n",
              "\n",
              "    .dataframe tbody tr th {\n",
              "        vertical-align: top;\n",
              "    }\n",
              "\n",
              "    .dataframe thead th {\n",
              "        text-align: right;\n",
              "    }\n",
              "</style>\n",
              "<table border=\"1\" class=\"dataframe\">\n",
              "  <thead>\n",
              "    <tr style=\"text-align: right;\">\n",
              "      <th></th>\n",
              "      <th>ID_PRESCRICAO</th>\n",
              "      <th>CODIGO_ATENDIMENTO</th>\n",
              "      <th>CODIGO_PACIENTE</th>\n",
              "      <th>NOME_PACIENTE</th>\n",
              "      <th>DATA_DE_REFERENCIA</th>\n",
              "      <th>TIPO_DE_PRESCRICAO</th>\n",
              "      <th>DESCRICAO_DO_TIPO_PRESCRICAO</th>\n",
              "      <th>PRESTADOR_DA_PRESCRICAO</th>\n",
              "      <th>NOME_DO_PRESTADOR</th>\n",
              "      <th>TIPO_DO_ITEM</th>\n",
              "      <th>...</th>\n",
              "      <th>CD_PRO_FAT_EXA_LAB</th>\n",
              "      <th>DS_PRO_FAT_EXA_LAB</th>\n",
              "      <th>CD_TIPO_DIETA</th>\n",
              "      <th>DS_TIPO_DIETA</th>\n",
              "      <th>CD_SANGUE_DERIVADOS</th>\n",
              "      <th>DS_SANGUE_DERIVADOS</th>\n",
              "      <th>CD_PRO_FAT_SANGUE</th>\n",
              "      <th>DS_PRO_FAT_SANGUE</th>\n",
              "      <th>CD_PRODUTO</th>\n",
              "      <th>DS_PRODUTO</th>\n",
              "    </tr>\n",
              "  </thead>\n",
              "  <tbody>\n",
              "    <tr>\n",
              "      <th>4</th>\n",
              "      <td>9314583</td>\n",
              "      <td>3442871</td>\n",
              "      <td>718773</td>\n",
              "      <td>SAMUEL KAZUO CANCIAN</td>\n",
              "      <td>03/01/2022 00:00:00</td>\n",
              "      <td>M</td>\n",
              "      <td>Medico</td>\n",
              "      <td>29109</td>\n",
              "      <td>HEITOR ANDREI MIRANDA DE CARVALHO</td>\n",
              "      <td>Item</td>\n",
              "      <td>...</td>\n",
              "      <td>NaN</td>\n",
              "      <td>NaN</td>\n",
              "      <td>NaN</td>\n",
              "      <td>NaN</td>\n",
              "      <td>NaN</td>\n",
              "      <td>NaN</td>\n",
              "      <td>NaN</td>\n",
              "      <td>NaN</td>\n",
              "      <td>2012038.0</td>\n",
              "      <td>DIPIFARMA 500MG/ML AMP 2ML</td>\n",
              "    </tr>\n",
              "    <tr>\n",
              "      <th>5</th>\n",
              "      <td>9314583</td>\n",
              "      <td>3442871</td>\n",
              "      <td>718773</td>\n",
              "      <td>SAMUEL KAZUO CANCIAN</td>\n",
              "      <td>03/01/2022 00:00:00</td>\n",
              "      <td>M</td>\n",
              "      <td>Medico</td>\n",
              "      <td>29109</td>\n",
              "      <td>HEITOR ANDREI MIRANDA DE CARVALHO</td>\n",
              "      <td>Item</td>\n",
              "      <td>...</td>\n",
              "      <td>NaN</td>\n",
              "      <td>NaN</td>\n",
              "      <td>NaN</td>\n",
              "      <td>NaN</td>\n",
              "      <td>NaN</td>\n",
              "      <td>NaN</td>\n",
              "      <td>NaN</td>\n",
              "      <td>NaN</td>\n",
              "      <td>2009387.0</td>\n",
              "      <td>CLORIDRATO DE ONDANSETRONA 2MG/ML AMP 2ML</td>\n",
              "    </tr>\n",
              "    <tr>\n",
              "      <th>8</th>\n",
              "      <td>9307297</td>\n",
              "      <td>3440279</td>\n",
              "      <td>1144975</td>\n",
              "      <td>VIVIANE DE LIMA CARPEGIANI</td>\n",
              "      <td>02/01/2022 00:00:00</td>\n",
              "      <td>M</td>\n",
              "      <td>Medico</td>\n",
              "      <td>2506</td>\n",
              "      <td>MICHELI MIKAELI COSTA DA PONTE SOUZA</td>\n",
              "      <td>Item</td>\n",
              "      <td>...</td>\n",
              "      <td>NaN</td>\n",
              "      <td>NaN</td>\n",
              "      <td>NaN</td>\n",
              "      <td>NaN</td>\n",
              "      <td>NaN</td>\n",
              "      <td>NaN</td>\n",
              "      <td>NaN</td>\n",
              "      <td>NaN</td>\n",
              "      <td>2005641.0</td>\n",
              "      <td>CEFTRIAXONA 1G FA IV</td>\n",
              "    </tr>\n",
              "    <tr>\n",
              "      <th>9</th>\n",
              "      <td>9307297</td>\n",
              "      <td>3440279</td>\n",
              "      <td>1144975</td>\n",
              "      <td>VIVIANE DE LIMA CARPEGIANI</td>\n",
              "      <td>02/01/2022 00:00:00</td>\n",
              "      <td>M</td>\n",
              "      <td>Medico</td>\n",
              "      <td>2506</td>\n",
              "      <td>MICHELI MIKAELI COSTA DA PONTE SOUZA</td>\n",
              "      <td>Item</td>\n",
              "      <td>...</td>\n",
              "      <td>NaN</td>\n",
              "      <td>NaN</td>\n",
              "      <td>NaN</td>\n",
              "      <td>NaN</td>\n",
              "      <td>NaN</td>\n",
              "      <td>NaN</td>\n",
              "      <td>NaN</td>\n",
              "      <td>NaN</td>\n",
              "      <td>2005641.0</td>\n",
              "      <td>CEFTRIAXONA 1G FA IV</td>\n",
              "    </tr>\n",
              "    <tr>\n",
              "      <th>16</th>\n",
              "      <td>9313035</td>\n",
              "      <td>3442388</td>\n",
              "      <td>498636</td>\n",
              "      <td>LAERCIO NOGUEIRA</td>\n",
              "      <td>03/01/2022 00:00:00</td>\n",
              "      <td>M</td>\n",
              "      <td>Medico</td>\n",
              "      <td>28663</td>\n",
              "      <td>RAISSA GABRIELLE REIS DOS SANTOS</td>\n",
              "      <td>Item</td>\n",
              "      <td>...</td>\n",
              "      <td>NaN</td>\n",
              "      <td>NaN</td>\n",
              "      <td>NaN</td>\n",
              "      <td>NaN</td>\n",
              "      <td>NaN</td>\n",
              "      <td>NaN</td>\n",
              "      <td>NaN</td>\n",
              "      <td>NaN</td>\n",
              "      <td>2019360.0</td>\n",
              "      <td>PANTOZOL 40MG FA</td>\n",
              "    </tr>\n",
              "  </tbody>\n",
              "</table>\n",
              "<p>5 rows × 44 columns</p>\n",
              "</div>\n",
              "      <button class=\"colab-df-convert\" onclick=\"convertToInteractive('df-165107ee-daf0-4118-9904-12cc44fcf52c')\"\n",
              "              title=\"Convert this dataframe to an interactive table.\"\n",
              "              style=\"display:none;\">\n",
              "        \n",
              "  <svg xmlns=\"http://www.w3.org/2000/svg\" height=\"24px\"viewBox=\"0 0 24 24\"\n",
              "       width=\"24px\">\n",
              "    <path d=\"M0 0h24v24H0V0z\" fill=\"none\"/>\n",
              "    <path d=\"M18.56 5.44l.94 2.06.94-2.06 2.06-.94-2.06-.94-.94-2.06-.94 2.06-2.06.94zm-11 1L8.5 8.5l.94-2.06 2.06-.94-2.06-.94L8.5 2.5l-.94 2.06-2.06.94zm10 10l.94 2.06.94-2.06 2.06-.94-2.06-.94-.94-2.06-.94 2.06-2.06.94z\"/><path d=\"M17.41 7.96l-1.37-1.37c-.4-.4-.92-.59-1.43-.59-.52 0-1.04.2-1.43.59L10.3 9.45l-7.72 7.72c-.78.78-.78 2.05 0 2.83L4 21.41c.39.39.9.59 1.41.59.51 0 1.02-.2 1.41-.59l7.78-7.78 2.81-2.81c.8-.78.8-2.07 0-2.86zM5.41 20L4 18.59l7.72-7.72 1.47 1.35L5.41 20z\"/>\n",
              "  </svg>\n",
              "      </button>\n",
              "      \n",
              "  <style>\n",
              "    .colab-df-container {\n",
              "      display:flex;\n",
              "      flex-wrap:wrap;\n",
              "      gap: 12px;\n",
              "    }\n",
              "\n",
              "    .colab-df-convert {\n",
              "      background-color: #E8F0FE;\n",
              "      border: none;\n",
              "      border-radius: 50%;\n",
              "      cursor: pointer;\n",
              "      display: none;\n",
              "      fill: #1967D2;\n",
              "      height: 32px;\n",
              "      padding: 0 0 0 0;\n",
              "      width: 32px;\n",
              "    }\n",
              "\n",
              "    .colab-df-convert:hover {\n",
              "      background-color: #E2EBFA;\n",
              "      box-shadow: 0px 1px 2px rgba(60, 64, 67, 0.3), 0px 1px 3px 1px rgba(60, 64, 67, 0.15);\n",
              "      fill: #174EA6;\n",
              "    }\n",
              "\n",
              "    [theme=dark] .colab-df-convert {\n",
              "      background-color: #3B4455;\n",
              "      fill: #D2E3FC;\n",
              "    }\n",
              "\n",
              "    [theme=dark] .colab-df-convert:hover {\n",
              "      background-color: #434B5C;\n",
              "      box-shadow: 0px 1px 3px 1px rgba(0, 0, 0, 0.15);\n",
              "      filter: drop-shadow(0px 1px 2px rgba(0, 0, 0, 0.3));\n",
              "      fill: #FFFFFF;\n",
              "    }\n",
              "  </style>\n",
              "\n",
              "      <script>\n",
              "        const buttonEl =\n",
              "          document.querySelector('#df-165107ee-daf0-4118-9904-12cc44fcf52c button.colab-df-convert');\n",
              "        buttonEl.style.display =\n",
              "          google.colab.kernel.accessAllowed ? 'block' : 'none';\n",
              "\n",
              "        async function convertToInteractive(key) {\n",
              "          const element = document.querySelector('#df-165107ee-daf0-4118-9904-12cc44fcf52c');\n",
              "          const dataTable =\n",
              "            await google.colab.kernel.invokeFunction('convertToInteractive',\n",
              "                                                     [key], {});\n",
              "          if (!dataTable) return;\n",
              "\n",
              "          const docLinkHtml = 'Like what you see? Visit the ' +\n",
              "            '<a target=\"_blank\" href=https://colab.research.google.com/notebooks/data_table.ipynb>data table notebook</a>'\n",
              "            + ' to learn more about interactive tables.';\n",
              "          element.innerHTML = '';\n",
              "          dataTable['output_type'] = 'display_data';\n",
              "          await google.colab.output.renderOutput(dataTable, element);\n",
              "          const docLink = document.createElement('div');\n",
              "          docLink.innerHTML = docLinkHtml;\n",
              "          element.appendChild(docLink);\n",
              "        }\n",
              "      </script>\n",
              "    </div>\n",
              "  </div>\n",
              "  "
            ]
          },
          "metadata": {},
          "execution_count": 62
        }
      ]
    },
    {
      "cell_type": "code",
      "source": [
        "produtos_prescricao = ['ID_ITEM_PRESCRITO','ESQUEMA','DESCRICAO_DO_ESQUEMA','ITEM_DE_PRESCRICAO','NOME_ITEM_PRESCRICAO','FREQUENCIA','DESCRICAO_DA_FREQUENCIA','QUANTIDADE_PRESCRITA','DATA_HORA_ITEM','DIAS_PARA_APLICACAO','CODIGO_PROCEDIMENTO','DESCRICAO_PROCEDIMENTO', 'CD_PRODUTO','DS_PRODUTO']\n",
        "cria_planilha(df_prescricao_produto[produtos_prescricao], 'produtos_prescricao.csv', dataset_final )"
      ],
      "metadata": {
        "id": "fdgD5Q25MSK-"
      },
      "execution_count": null,
      "outputs": []
    },
    {
      "cell_type": "code",
      "source": [
        "sangue_prescricao = ['ID_ITEM_PRESCRITO','ESQUEMA','DESCRICAO_DO_ESQUEMA','ITEM_DE_PRESCRICAO','NOME_ITEM_PRESCRICAO','FREQUENCIA','DESCRICAO_DA_FREQUENCIA','QUANTIDADE_PRESCRITA','DATA_HORA_ITEM','DIAS_PARA_APLICACAO','CODIGO_PROCEDIMENTO','DESCRICAO_PROCEDIMENTO', 'CD_SANGUE_DERIVADOS', 'DS_SANGUE_DERIVADOS', 'CD_PRO_FAT_SANGUE', 'DS_PRO_FAT_SANGUE']\n",
        "df_sangue_prescricao = df_prescricao[df_prescricao['CD_SANGUE_DERIVADOS'].isnull()==False][produtos_prescricao]\n",
        "cria_planilha(df_sangue_prescricao[produtos_prescricao], 'sangue_prescricao.csv', dataset_final )"
      ],
      "metadata": {
        "id": "SDUUZDl7Plf2"
      },
      "execution_count": null,
      "outputs": []
    },
    {
      "cell_type": "markdown",
      "source": [
        "##Consumo"
      ],
      "metadata": {
        "id": "x1lrV9BrFIMo"
      }
    },
    {
      "cell_type": "code",
      "source": [
        "df_consumo = le_planilha('consumo.csv', separador=\";\")"
      ],
      "metadata": {
        "id": "plQx7s46Bwdk"
      },
      "execution_count": null,
      "outputs": []
    },
    {
      "cell_type": "code",
      "source": [
        "df_consumo.info()"
      ],
      "metadata": {
        "colab": {
          "base_uri": "https://localhost:8080/"
        },
        "id": "q7Ktf0RIFXdE",
        "outputId": "4da8f51d-eafc-4b66-e996-d0f56c5f8a76"
      },
      "execution_count": null,
      "outputs": [
        {
          "output_type": "stream",
          "name": "stdout",
          "text": [
            "<class 'pandas.core.frame.DataFrame'>\n",
            "RangeIndex: 178475 entries, 0 to 178474\n",
            "Data columns (total 5 columns):\n",
            " #   Column          Non-Null Count   Dtype  \n",
            "---  ------          --------------   -----  \n",
            " 0   CD_PRODUTO      178475 non-null  int64  \n",
            " 1   DS_PRODUTO      178475 non-null  object \n",
            " 2   CD_ESPECIE      178475 non-null  int64  \n",
            " 3   QT_CONSUMO      178475 non-null  float64\n",
            " 4   CD_ATENDIMENTO  178475 non-null  int64  \n",
            "dtypes: float64(1), int64(3), object(1)\n",
            "memory usage: 6.8+ MB\n"
          ]
        }
      ]
    },
    {
      "cell_type": "code",
      "source": [
        "cria_planilha(df_consumo, 'consumo_atendimento.csv', dataset_final)"
      ],
      "metadata": {
        "id": "9yb1AKnLFcqF"
      },
      "execution_count": null,
      "outputs": []
    }
  ]
}